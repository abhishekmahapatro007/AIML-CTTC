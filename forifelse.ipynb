{
 "cells": [
  {
   "cell_type": "code",
   "execution_count": 1,
   "id": "05fa65a7",
   "metadata": {},
   "outputs": [
    {
     "name": "stdout",
     "output_type": "stream",
     "text": [
      "***\n",
      "**\n",
      "*\n"
     ]
    }
   ],
   "source": [
    "print('''***\n",
    "**\n",
    "*''')"
   ]
  },
  {
   "cell_type": "code",
   "execution_count": 2,
   "id": "9fdfa07d",
   "metadata": {},
   "outputs": [
    {
     "name": "stdout",
     "output_type": "stream",
     "text": [
      "Enter a number900\n",
      "the number is 900\n"
     ]
    }
   ],
   "source": [
    "n = int(input('Enter a number'))\n",
    "print('the number is',n)"
   ]
  },
  {
   "cell_type": "code",
   "execution_count": 3,
   "id": "b8645b7e",
   "metadata": {},
   "outputs": [
    {
     "name": "stdout",
     "output_type": "stream",
     "text": [
      "Enter number 12\n",
      "Enter number 23\n",
      "5\n"
     ]
    }
   ],
   "source": [
    "a = int(input('Enter number 1'))\n",
    "b = int(input('Enter number 2'))\n",
    "print(a+b)"
   ]
  },
  {
   "cell_type": "code",
   "execution_count": 4,
   "id": "d341ec70",
   "metadata": {},
   "outputs": [
    {
     "data": {
      "text/plain": [
       "90"
      ]
     },
     "execution_count": 4,
     "metadata": {},
     "output_type": "execute_result"
    }
   ],
   "source": [
    "l1 =[1,2,4,89,4,1,2,90]\n",
    "max(l1)"
   ]
  },
  {
   "cell_type": "code",
   "execution_count": 5,
   "id": "7aeb5401",
   "metadata": {},
   "outputs": [
    {
     "data": {
      "text/plain": [
       "193"
      ]
     },
     "execution_count": 5,
     "metadata": {},
     "output_type": "execute_result"
    }
   ],
   "source": [
    "sum(l1)"
   ]
  },
  {
   "cell_type": "code",
   "execution_count": 7,
   "id": "19e98cc6",
   "metadata": {},
   "outputs": [
    {
     "name": "stdout",
     "output_type": "stream",
     "text": [
      "enter a number : 90\n",
      "it's even\n"
     ]
    }
   ],
   "source": [
    "n = int(input(\"enter a number : \"))\n",
    "if(n % 2 == 0):\n",
    "    print('it\\'s even')\n",
    "else:\n",
    "    print('it\\'s odd')"
   ]
  },
  {
   "cell_type": "code",
   "execution_count": 15,
   "id": "66f03ffd",
   "metadata": {},
   "outputs": [
    {
     "name": "stdout",
     "output_type": "stream",
     "text": [
      "Enter a number 5465868695496546900860598695869058698569854860298695569586\n",
      "positive\n"
     ]
    }
   ],
   "source": [
    "n = int(input('Enter a number'))\n",
    "if(n > 0):\n",
    "    print('positive')\n",
    "elif(n < 0):\n",
    "    print('negative')\n",
    "else:\n",
    "    print('zero')"
   ]
  },
  {
   "cell_type": "code",
   "execution_count": 1,
   "id": "b2627575",
   "metadata": {},
   "outputs": [
    {
     "name": "stdout",
     "output_type": "stream",
     "text": [
      "enter a number 90\n",
      "90  is even and positive\n"
     ]
    }
   ],
   "source": [
    "n = int(input('enter a number '))\n",
    "if(n % 2 == 0 and n > 0) :\n",
    "    print(n,' is even and positive')\n",
    "elif(n % 2 == 0 and n < 0):\n",
    "    print(n,' is even and negative')\n",
    "elif(n % 2 != 0 and n > 0):\n",
    "    print(n,' is odd and positive')\n",
    "else:\n",
    "    print(n,' is odd and negative')"
   ]
  },
  {
   "cell_type": "code",
   "execution_count": 9,
   "id": "ffaf945c",
   "metadata": {},
   "outputs": [
    {
     "name": "stdout",
     "output_type": "stream",
     "text": [
      "enter your marks 82.4\n",
      "Grade B\n"
     ]
    }
   ],
   "source": [
    "marks = float(input('enter your marks '))\n",
    "\n",
    "if(marks >= 90 and marks <= 100):\n",
    "    print('Grade A')\n",
    "elif(marks >= 80 and marks <= 90):\n",
    "    print('Grade B')\n",
    "elif(marks >= 70 and marks <= 80):\n",
    "    print('Grade C')\n",
    "elif(marks >= 60 and marks <= 70):\n",
    "    print('Grade D')\n",
    "elif(marks >= 50 and marks <= 60):\n",
    "    print('Grade E')\n",
    "else:\n",
    "    print('fail')"
   ]
  },
  {
   "cell_type": "code",
   "execution_count": 2,
   "id": "408e2040",
   "metadata": {},
   "outputs": [
    {
     "name": "stdout",
     "output_type": "stream",
     "text": [
      "A \t\n",
      "p \t\n",
      "p \t\n",
      "l \t\n",
      "e \t\n"
     ]
    }
   ],
   "source": [
    "for i in 'Apple':\n",
    "    print(i)"
   ]
  },
  {
   "cell_type": "code",
   "execution_count": 7,
   "id": "ff170a9b",
   "metadata": {},
   "outputs": [
    {
     "data": {
      "text/plain": [
       "{25, 26, 48, 61, 94}"
      ]
     },
     "execution_count": 7,
     "metadata": {},
     "output_type": "execute_result"
    }
   ],
   "source": [
    "l1 = [20,43,89,21,56,43]\n",
    "l1.sort()\n",
    "s = set()\n",
    "for i in l1:\n",
    "    s.add(i+5)\n",
    "s"
   ]
  },
  {
   "cell_type": "code",
   "execution_count": 10,
   "id": "cc86729f",
   "metadata": {},
   "outputs": [
    {
     "name": "stdout",
     "output_type": "stream",
     "text": [
      "1\n",
      "2\n",
      "3\n",
      "4\n"
     ]
    }
   ],
   "source": [
    "dict = {'a':1,'b':2,'c':3,'d':4}\n",
    "for i in dict.keys():\n",
    "    print(dict.get(i))"
   ]
  },
  {
   "cell_type": "code",
   "execution_count": 15,
   "id": "a56181d0",
   "metadata": {},
   "outputs": [
    {
     "name": "stdout",
     "output_type": "stream",
     "text": [
      "key ----> values\n",
      "a   ----> 1\n",
      "b   ----> 2\n",
      "c   ----> 3\n",
      "d   ----> 4\n"
     ]
    }
   ],
   "source": [
    "print('key ----> values')\n",
    "for i,j in dict.items():\n",
    "    print(i, '  ---->',j)"
   ]
  },
  {
   "cell_type": "code",
   "execution_count": 16,
   "id": "5aa0edd0",
   "metadata": {},
   "outputs": [
    {
     "name": "stdout",
     "output_type": "stream",
     "text": [
      "Abhishek Mahapatro"
     ]
    }
   ],
   "source": [
    "for i in 'Abhishek Mahapatro':\n",
    "    print(i,end = '')"
   ]
  },
  {
   "cell_type": "code",
   "execution_count": 26,
   "id": "179e4539",
   "metadata": {},
   "outputs": [
    {
     "name": "stdout",
     "output_type": "stream",
     "text": [
      "100 98 96 94 92 90 88 86 84 82 80 78 76 74 72 70 68 66 64 62 60 58 56 54 52 50 48 46 44 42 40 38 36 34 32 30 28 26 24 22 20 18 16 14 12 10 8 6 4 2 "
     ]
    }
   ],
   "source": [
    "for i in range(100,0,-1):\n",
    "    if(i%2 == 0):\n",
    "        print(i,end = ' ')"
   ]
  },
  {
   "cell_type": "code",
   "execution_count": 27,
   "id": "d74b8e56",
   "metadata": {},
   "outputs": [
    {
     "name": "stdout",
     "output_type": "stream",
     "text": [
      "55\n"
     ]
    }
   ],
   "source": [
    "sum = 0\n",
    "for i in range(11):\n",
    "    sum += i\n",
    "print(sum)"
   ]
  },
  {
   "cell_type": "code",
   "execution_count": 31,
   "id": "88110500",
   "metadata": {},
   "outputs": [
    {
     "name": "stdout",
     "output_type": "stream",
     "text": [
      "Enter a number900\n",
      "900  X  1  =  900\n",
      "900  X  2  =  1800\n",
      "900  X  3  =  2700\n",
      "900  X  4  =  3600\n",
      "900  X  5  =  4500\n",
      "900  X  6  =  5400\n",
      "900  X  7  =  6300\n",
      "900  X  8  =  7200\n",
      "900  X  9  =  8100\n",
      "900  X  10  =  9000\n"
     ]
    }
   ],
   "source": [
    "n = int(input('Enter a number'))\n",
    "for i in range(1,11):\n",
    "    print(n,' X ',i,' = ',n*i)"
   ]
  },
  {
   "cell_type": "code",
   "execution_count": 50,
   "id": "8b115ab4",
   "metadata": {},
   "outputs": [
    {
     "name": "stdout",
     "output_type": "stream",
     "text": [
      "Enter a number: 71\n",
      "71  is Prime\n"
     ]
    }
   ],
   "source": [
    "n = int(input('Enter a number: '))\n",
    "count = 0\n",
    "if(n == 1):\n",
    "    print(n,' is neither prime nor composite')\n",
    "else:\n",
    "    for i in range(1,n + 1):\n",
    "        if(n % i == 0):\n",
    "            count+=1\n",
    "\n",
    "    if(count == 2):\n",
    "        print(n,' is Prime')\n",
    "    else:\n",
    "        print(n,' is Composite')"
   ]
  },
  {
   "cell_type": "code",
   "execution_count": 52,
   "id": "af0d8a18",
   "metadata": {},
   "outputs": [
    {
     "name": "stdout",
     "output_type": "stream",
     "text": [
      "Enter a number : 32\n",
      "[1, 2, 4, 8, 16, 32]\n"
     ]
    }
   ],
   "source": [
    "l =[]\n",
    "n = int(input('Enter a number : '))\n",
    "\n",
    "for i in range(1,n+1):\n",
    "    if(n % i == 0):\n",
    "        l.append(i)\n",
    "        \n",
    "print(l)"
   ]
  },
  {
   "cell_type": "code",
   "execution_count": 2,
   "id": "ad90a826",
   "metadata": {},
   "outputs": [
    {
     "name": "stdout",
     "output_type": "stream",
     "text": [
      "Enter number10\n",
      "1  X  1  =  1\n",
      "1  X  2  =  2\n",
      "1  X  3  =  3\n",
      "1  X  4  =  4\n",
      "1  X  5  =  5\n",
      "1  X  6  =  6\n",
      "1  X  7  =  7\n",
      "1  X  8  =  8\n",
      "1  X  9  =  9\n",
      "1  X  10  =  10\n",
      "\t\n",
      "2  X  1  =  2\n",
      "2  X  2  =  4\n",
      "2  X  3  =  6\n",
      "2  X  4  =  8\n",
      "2  X  5  =  10\n",
      "2  X  6  =  12\n",
      "2  X  7  =  14\n",
      "2  X  8  =  16\n",
      "2  X  9  =  18\n",
      "2  X  10  =  20\n",
      "\t\n",
      "3  X  1  =  3\n",
      "3  X  2  =  6\n",
      "3  X  3  =  9\n",
      "3  X  4  =  12\n",
      "3  X  5  =  15\n",
      "3  X  6  =  18\n",
      "3  X  7  =  21\n",
      "3  X  8  =  24\n",
      "3  X  9  =  27\n",
      "3  X  10  =  30\n",
      "\t\n",
      "4  X  1  =  4\n",
      "4  X  2  =  8\n",
      "4  X  3  =  12\n",
      "4  X  4  =  16\n",
      "4  X  5  =  20\n",
      "4  X  6  =  24\n",
      "4  X  7  =  28\n",
      "4  X  8  =  32\n",
      "4  X  9  =  36\n",
      "4  X  10  =  40\n",
      "\t\n",
      "5  X  1  =  5\n",
      "5  X  2  =  10\n",
      "5  X  3  =  15\n",
      "5  X  4  =  20\n",
      "5  X  5  =  25\n",
      "5  X  6  =  30\n",
      "5  X  7  =  35\n",
      "5  X  8  =  40\n",
      "5  X  9  =  45\n",
      "5  X  10  =  50\n",
      "\t\n",
      "6  X  1  =  6\n",
      "6  X  2  =  12\n",
      "6  X  3  =  18\n",
      "6  X  4  =  24\n",
      "6  X  5  =  30\n",
      "6  X  6  =  36\n",
      "6  X  7  =  42\n",
      "6  X  8  =  48\n",
      "6  X  9  =  54\n",
      "6  X  10  =  60\n",
      "\t\n",
      "7  X  1  =  7\n",
      "7  X  2  =  14\n",
      "7  X  3  =  21\n",
      "7  X  4  =  28\n",
      "7  X  5  =  35\n",
      "7  X  6  =  42\n",
      "7  X  7  =  49\n",
      "7  X  8  =  56\n",
      "7  X  9  =  63\n",
      "7  X  10  =  70\n",
      "\t\n",
      "8  X  1  =  8\n",
      "8  X  2  =  16\n",
      "8  X  3  =  24\n",
      "8  X  4  =  32\n",
      "8  X  5  =  40\n",
      "8  X  6  =  48\n",
      "8  X  7  =  56\n",
      "8  X  8  =  64\n",
      "8  X  9  =  72\n",
      "8  X  10  =  80\n",
      "\t\n",
      "9  X  1  =  9\n",
      "9  X  2  =  18\n",
      "9  X  3  =  27\n",
      "9  X  4  =  36\n",
      "9  X  5  =  45\n",
      "9  X  6  =  54\n",
      "9  X  7  =  63\n",
      "9  X  8  =  72\n",
      "9  X  9  =  81\n",
      "9  X  10  =  90\n",
      "\t\n",
      "10  X  1  =  10\n",
      "10  X  2  =  20\n",
      "10  X  3  =  30\n",
      "10  X  4  =  40\n",
      "10  X  5  =  50\n",
      "10  X  6  =  60\n",
      "10  X  7  =  70\n",
      "10  X  8  =  80\n",
      "10  X  9  =  90\n",
      "10  X  10  =  100\n",
      "\t\n"
     ]
    }
   ],
   "source": [
    "m = int(input('Enter number'))\n",
    "for i in range(1,m + 1):\n",
    "    for j in range(1,11):\n",
    "        print(i,' X ',j,' = ',i*j)\n",
    "    print('\\t')"
   ]
  },
  {
   "cell_type": "code",
   "execution_count": 3,
   "id": "2797c06f",
   "metadata": {},
   "outputs": [
    {
     "name": "stdout",
     "output_type": "stream",
     "text": [
      "0 1 2 3 4 5 6 7 8 9 10 11 12 13 14 15 16 17 18 19 20 21 "
     ]
    }
   ],
   "source": [
    "i = 0\n",
    "while(i < 22):\n",
    "    print(i,end = ' ')\n",
    "    i+=1;"
   ]
  },
  {
   "cell_type": "code",
   "execution_count": 5,
   "id": "4593cdea",
   "metadata": {},
   "outputs": [
    {
     "name": "stdout",
     "output_type": "stream",
     "text": [
      "200 195 190 185 180 175 170 165 160 155 150 145 140 135 130 125 120 115 110 105 100 95 90 85 80 75 70 65 60 55 50 45 40 35 30 25 20 15 10 5 0 "
     ]
    }
   ],
   "source": [
    "i = 200\n",
    "while(i >= 0):\n",
    "    if(i % 5 == 0):\n",
    "        print(i,end =' ')\n",
    "    i-=1"
   ]
  },
  {
   "cell_type": "code",
   "execution_count": 1,
   "id": "fc54fda1",
   "metadata": {},
   "outputs": [
    {
     "name": "stdout",
     "output_type": "stream",
     "text": [
      "Enter number4\n",
      "4  X  1  =  4\n",
      "4  X  2  =  8\n",
      "4  X  3  =  12\n",
      "4  X  4  =  16\n",
      "4  X  5  =  20\n",
      "4  X  6  =  24\n",
      "4  X  7  =  28\n",
      "4  X  8  =  32\n",
      "4  X  9  =  36\n",
      "4  X  10  =  40\n"
     ]
    }
   ],
   "source": [
    "n = int(input('Enter number'))\n",
    "fac = 1\n",
    "while(fac < 11):\n",
    "    print(n,' X ',fac,' = ',n*fac)\n",
    "    fac+=1"
   ]
  },
  {
   "cell_type": "code",
   "execution_count": 1,
   "id": "5a0e3573",
   "metadata": {},
   "outputs": [
    {
     "name": "stdout",
     "output_type": "stream",
     "text": [
      "Enter a number10\n",
      "1  X  1  =  1\n",
      "1  X  2  =  2\n",
      "1  X  3  =  3\n",
      "1  X  4  =  4\n",
      "1  X  5  =  5\n",
      "1  X  6  =  6\n",
      "1  X  7  =  7\n",
      "1  X  8  =  8\n",
      "1  X  9  =  9\n",
      "1  X  10  =  10\n",
      "\n",
      "\n",
      "2  X  1  =  2\n",
      "2  X  2  =  4\n",
      "2  X  3  =  6\n",
      "2  X  4  =  8\n",
      "2  X  5  =  10\n",
      "2  X  6  =  12\n",
      "2  X  7  =  14\n",
      "2  X  8  =  16\n",
      "2  X  9  =  18\n",
      "2  X  10  =  20\n",
      "\n",
      "\n",
      "3  X  1  =  3\n",
      "3  X  2  =  6\n",
      "3  X  3  =  9\n",
      "3  X  4  =  12\n",
      "3  X  5  =  15\n",
      "3  X  6  =  18\n",
      "3  X  7  =  21\n",
      "3  X  8  =  24\n",
      "3  X  9  =  27\n",
      "3  X  10  =  30\n",
      "\n",
      "\n",
      "4  X  1  =  4\n",
      "4  X  2  =  8\n",
      "4  X  3  =  12\n",
      "4  X  4  =  16\n",
      "4  X  5  =  20\n",
      "4  X  6  =  24\n",
      "4  X  7  =  28\n",
      "4  X  8  =  32\n",
      "4  X  9  =  36\n",
      "4  X  10  =  40\n",
      "\n",
      "\n",
      "5  X  1  =  5\n",
      "5  X  2  =  10\n",
      "5  X  3  =  15\n",
      "5  X  4  =  20\n",
      "5  X  5  =  25\n",
      "5  X  6  =  30\n",
      "5  X  7  =  35\n",
      "5  X  8  =  40\n",
      "5  X  9  =  45\n",
      "5  X  10  =  50\n",
      "\n",
      "\n",
      "6  X  1  =  6\n",
      "6  X  2  =  12\n",
      "6  X  3  =  18\n",
      "6  X  4  =  24\n",
      "6  X  5  =  30\n",
      "6  X  6  =  36\n",
      "6  X  7  =  42\n",
      "6  X  8  =  48\n",
      "6  X  9  =  54\n",
      "6  X  10  =  60\n",
      "\n",
      "\n",
      "7  X  1  =  7\n",
      "7  X  2  =  14\n",
      "7  X  3  =  21\n",
      "7  X  4  =  28\n",
      "7  X  5  =  35\n",
      "7  X  6  =  42\n",
      "7  X  7  =  49\n",
      "7  X  8  =  56\n",
      "7  X  9  =  63\n",
      "7  X  10  =  70\n",
      "\n",
      "\n",
      "8  X  1  =  8\n",
      "8  X  2  =  16\n",
      "8  X  3  =  24\n",
      "8  X  4  =  32\n",
      "8  X  5  =  40\n",
      "8  X  6  =  48\n",
      "8  X  7  =  56\n",
      "8  X  8  =  64\n",
      "8  X  9  =  72\n",
      "8  X  10  =  80\n",
      "\n",
      "\n",
      "9  X  1  =  9\n",
      "9  X  2  =  18\n",
      "9  X  3  =  27\n",
      "9  X  4  =  36\n",
      "9  X  5  =  45\n",
      "9  X  6  =  54\n",
      "9  X  7  =  63\n",
      "9  X  8  =  72\n",
      "9  X  9  =  81\n",
      "9  X  10  =  90\n",
      "\n",
      "\n",
      "10  X  1  =  10\n",
      "10  X  2  =  20\n",
      "10  X  3  =  30\n",
      "10  X  4  =  40\n",
      "10  X  5  =  50\n",
      "10  X  6  =  60\n",
      "10  X  7  =  70\n",
      "10  X  8  =  80\n",
      "10  X  9  =  90\n",
      "10  X  10  =  100\n",
      "\n",
      "\n"
     ]
    }
   ],
   "source": [
    "n = int(input('Enter a number'))\n",
    "fac = 1\n",
    "count = 1\n",
    "while(count <= n):\n",
    "    while(fac < 11):\n",
    "        print(count,' X ',fac,' = ',count*fac)\n",
    "        fac+=1\n",
    "    fac = 1\n",
    "    count += 1\n",
    "    print('\\n')"
   ]
  },
  {
   "cell_type": "code",
   "execution_count": null,
   "id": "9336e079",
   "metadata": {},
   "outputs": [],
   "source": []
  }
 ],
 "metadata": {
  "kernelspec": {
   "display_name": "Python 3 (ipykernel)",
   "language": "python",
   "name": "python3"
  },
  "language_info": {
   "codemirror_mode": {
    "name": "ipython",
    "version": 3
   },
   "file_extension": ".py",
   "mimetype": "text/x-python",
   "name": "python",
   "nbconvert_exporter": "python",
   "pygments_lexer": "ipython3",
   "version": "3.11.5"
  }
 },
 "nbformat": 4,
 "nbformat_minor": 5
}
