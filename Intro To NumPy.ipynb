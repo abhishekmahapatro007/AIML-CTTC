{
 "cells": [
  {
   "cell_type": "markdown",
   "id": "808831de",
   "metadata": {},
   "source": [
    "NumPy (Numerical Python):- It's a Python Library used to perform various mathematical operations on array"
   ]
  },
  {
   "cell_type": "code",
   "execution_count": 4,
   "id": "c5b7ad11",
   "metadata": {},
   "outputs": [],
   "source": [
    "import numpy as np"
   ]
  },
  {
   "cell_type": "code",
   "execution_count": 4,
   "id": "e6c4e98a",
   "metadata": {},
   "outputs": [
    {
     "name": "stdout",
     "output_type": "stream",
     "text": [
      "[1 2 3 4 5]\n"
     ]
    },
    {
     "data": {
      "text/plain": [
       "numpy.ndarray"
      ]
     },
     "execution_count": 4,
     "metadata": {},
     "output_type": "execute_result"
    }
   ],
   "source": [
    "#creating 1-D Array\n",
    "a = np.array([1,2,3,4,5])\n",
    "print(a)\n",
    "type(a)"
   ]
  },
  {
   "cell_type": "markdown",
   "id": "6d4dff59",
   "metadata": {},
   "source": [
    "Converting List to Array"
   ]
  },
  {
   "cell_type": "code",
   "execution_count": 5,
   "id": "e9ff2da8",
   "metadata": {},
   "outputs": [
    {
     "name": "stdout",
     "output_type": "stream",
     "text": [
      "[1, 2, 3, 4, 5]\n"
     ]
    },
    {
     "data": {
      "text/plain": [
       "list"
      ]
     },
     "execution_count": 5,
     "metadata": {},
     "output_type": "execute_result"
    }
   ],
   "source": [
    "l = [1,2,3,4,5]\n",
    "print(l)\n",
    "type(l)"
   ]
  },
  {
   "cell_type": "code",
   "execution_count": 6,
   "id": "3cd43963",
   "metadata": {},
   "outputs": [
    {
     "name": "stdout",
     "output_type": "stream",
     "text": [
      "[1 2 3 4 5]\n"
     ]
    },
    {
     "data": {
      "text/plain": [
       "numpy.ndarray"
      ]
     },
     "execution_count": 6,
     "metadata": {},
     "output_type": "execute_result"
    }
   ],
   "source": [
    "a = np.array(l)\n",
    "print(a)\n",
    "type(a)"
   ]
  },
  {
   "cell_type": "markdown",
   "id": "cc25652a",
   "metadata": {},
   "source": [
    "Converting Other Data Structures to Array"
   ]
  },
  {
   "cell_type": "code",
   "execution_count": 12,
   "id": "621a15b9",
   "metadata": {},
   "outputs": [
    {
     "name": "stdout",
     "output_type": "stream",
     "text": [
      "[1 2 4 5 3]\n"
     ]
    }
   ],
   "source": [
    "t = (1,2,4,5,3) #tuple\n",
    "a = np.array(t)\n",
    "type(a)\n",
    "print(a)"
   ]
  },
  {
   "cell_type": "code",
   "execution_count": 14,
   "id": "32388da2",
   "metadata": {},
   "outputs": [
    {
     "data": {
      "text/plain": [
       "5"
      ]
     },
     "execution_count": 14,
     "metadata": {},
     "output_type": "execute_result"
    }
   ],
   "source": [
    "len(a)"
   ]
  },
  {
   "cell_type": "code",
   "execution_count": 5,
   "id": "3f643aa3",
   "metadata": {},
   "outputs": [
    {
     "name": "stdout",
     "output_type": "stream",
     "text": [
      "{1, 2, 3, 4, 'string'}\n"
     ]
    }
   ],
   "source": [
    "s = {1,2,3,4,'string'}  #set(it won't change all datatypes to string since all are unique elements)\n",
    "a = np.array(s)\n",
    "print(a)"
   ]
  },
  {
   "cell_type": "code",
   "execution_count": 11,
   "id": "4b1f360b",
   "metadata": {},
   "outputs": [
    {
     "ename": "TypeError",
     "evalue": "len() of unsized object",
     "output_type": "error",
     "traceback": [
      "\u001b[1;31m---------------------------------------------------------------------------\u001b[0m",
      "\u001b[1;31mTypeError\u001b[0m                                 Traceback (most recent call last)",
      "Cell \u001b[1;32mIn[11], line 1\u001b[0m\n\u001b[1;32m----> 1\u001b[0m \u001b[38;5;28mlen\u001b[39m(a)\n",
      "\u001b[1;31mTypeError\u001b[0m: len() of unsized object"
     ]
    }
   ],
   "source": [
    "len(a)"
   ]
  },
  {
   "cell_type": "code",
   "execution_count": 8,
   "id": "f1ffec06",
   "metadata": {},
   "outputs": [
    {
     "data": {
      "text/plain": [
       "numpy.ndarray"
      ]
     },
     "execution_count": 8,
     "metadata": {},
     "output_type": "execute_result"
    }
   ],
   "source": [
    "type(a)"
   ]
  },
  {
   "cell_type": "code",
   "execution_count": 23,
   "id": "6ec5790b",
   "metadata": {},
   "outputs": [
    {
     "name": "stdout",
     "output_type": "stream",
     "text": [
      "{1, 2, 3, 4, 5}\n"
     ]
    }
   ],
   "source": [
    "s = {1,2,3,2,4,2,1,3,2,5}\n",
    "a = np.array(s)\n",
    "print(a)   #since it contains all unique elements it won't change the {} to []"
   ]
  },
  {
   "cell_type": "code",
   "execution_count": 24,
   "id": "4fb3a22f",
   "metadata": {},
   "outputs": [
    {
     "ename": "TypeError",
     "evalue": "len() of unsized object",
     "output_type": "error",
     "traceback": [
      "\u001b[1;31m---------------------------------------------------------------------------\u001b[0m",
      "\u001b[1;31mTypeError\u001b[0m                                 Traceback (most recent call last)",
      "Cell \u001b[1;32mIn[24], line 1\u001b[0m\n\u001b[1;32m----> 1\u001b[0m \u001b[38;5;28mlen\u001b[39m(a)\n",
      "\u001b[1;31mTypeError\u001b[0m: len() of unsized object"
     ]
    }
   ],
   "source": [
    "len(a)"
   ]
  },
  {
   "cell_type": "code",
   "execution_count": 14,
   "id": "e048e557",
   "metadata": {},
   "outputs": [
    {
     "name": "stdout",
     "output_type": "stream",
     "text": [
      "['1' '2' '3' '4' '5' 'cat']\n"
     ]
    }
   ],
   "source": [
    "l1 = [1,2,3,4,5,'cat']\n",
    "a = np.array(l1)\n",
    "print(a)\n",
    "#it'll convert every element to string"
   ]
  },
  {
   "cell_type": "code",
   "execution_count": 19,
   "id": "1b953e4c",
   "metadata": {},
   "outputs": [
    {
     "name": "stdout",
     "output_type": "stream",
     "text": [
      "{1: 'a', 2: 'b', 3: 'c'}\n"
     ]
    }
   ],
   "source": [
    "#dictionary just change it's datatype \n",
    "dict = {1:'a' , 2:'b' , 3:'c'}\n",
    "a = np.array(dict)\n",
    "print(a)  #printing the same dictionary"
   ]
  },
  {
   "cell_type": "code",
   "execution_count": 21,
   "id": "800f9afe",
   "metadata": {},
   "outputs": [
    {
     "ename": "TypeError",
     "evalue": "len() of unsized object",
     "output_type": "error",
     "traceback": [
      "\u001b[1;31m---------------------------------------------------------------------------\u001b[0m",
      "\u001b[1;31mTypeError\u001b[0m                                 Traceback (most recent call last)",
      "Cell \u001b[1;32mIn[21], line 1\u001b[0m\n\u001b[1;32m----> 1\u001b[0m \u001b[38;5;28mlen\u001b[39m(a)\n",
      "\u001b[1;31mTypeError\u001b[0m: len() of unsized object"
     ]
    }
   ],
   "source": [
    "len(a)"
   ]
  },
  {
   "cell_type": "markdown",
   "id": "e2e434d7",
   "metadata": {},
   "source": [
    "Sets & Dictionaries can't ne coverted into Arrays and hence can't use Array Methods"
   ]
  },
  {
   "cell_type": "code",
   "execution_count": 18,
   "id": "3906be30",
   "metadata": {},
   "outputs": [
    {
     "data": {
      "text/plain": [
       "numpy.ndarray"
      ]
     },
     "execution_count": 18,
     "metadata": {},
     "output_type": "execute_result"
    }
   ],
   "source": [
    "type(a) #only change in datatype"
   ]
  },
  {
   "cell_type": "markdown",
   "id": "ed7f130f",
   "metadata": {},
   "source": [
    "Creating 2-D Array"
   ]
  },
  {
   "cell_type": "code",
   "execution_count": 21,
   "id": "7fa9e160",
   "metadata": {},
   "outputs": [
    {
     "name": "stdout",
     "output_type": "stream",
     "text": [
      "[[1 2 3]\n",
      " [4 5 6]\n",
      " [7 8 9]]\n"
     ]
    },
    {
     "data": {
      "text/plain": [
       "numpy.ndarray"
      ]
     },
     "execution_count": 21,
     "metadata": {},
     "output_type": "execute_result"
    }
   ],
   "source": [
    "a = np.array([[1,2,3],[4,5,6],[7,8,9]])\n",
    "print(a)\n",
    "type(a)"
   ]
  },
  {
   "cell_type": "code",
   "execution_count": 23,
   "id": "9f07a41e",
   "metadata": {},
   "outputs": [
    {
     "name": "stdout",
     "output_type": "stream",
     "text": [
      "[[1 2 3]\n",
      " [4 5 6]\n",
      " [7 8 9]]\n"
     ]
    }
   ],
   "source": [
    "a = np.array([(1,2,3),[4,5,6],[7,8,9]])\n",
    "'''The outmost bracket should be a [] but the nested lists can be one tuple & rest lists,all tuples or \n",
    "all lists but can't take sets or will throw error in some cases of length mismatch'''\n",
    "'''For set,it won't convert it into a 2d matrix,it'll consider that as  a 1-d matrix'''\n",
    "print(a)"
   ]
  },
  {
   "cell_type": "code",
   "execution_count": 34,
   "id": "04b8fdbb",
   "metadata": {},
   "outputs": [
    {
     "ename": "TypeError",
     "evalue": "'set' object is not subscriptable",
     "output_type": "error",
     "traceback": [
      "\u001b[1;31m---------------------------------------------------------------------------\u001b[0m",
      "\u001b[1;31mTypeError\u001b[0m                                 Traceback (most recent call last)",
      "Cell \u001b[1;32mIn[34], line 3\u001b[0m\n\u001b[0;32m      1\u001b[0m d \u001b[38;5;241m=\u001b[39m np\u001b[38;5;241m.\u001b[39marray([{\u001b[38;5;241m1\u001b[39m,\u001b[38;5;241m2\u001b[39m,\u001b[38;5;241m3\u001b[39m},{\u001b[38;5;241m4\u001b[39m,\u001b[38;5;241m5\u001b[39m,\u001b[38;5;241m6\u001b[39m},{\u001b[38;5;241m1\u001b[39m,\u001b[38;5;241m2\u001b[39m,\u001b[38;5;241m3\u001b[39m}])\n\u001b[0;32m      2\u001b[0m d\n\u001b[1;32m----> 3\u001b[0m d[\u001b[38;5;241m1\u001b[39m][\u001b[38;5;241m0\u001b[39m]\n",
      "\u001b[1;31mTypeError\u001b[0m: 'set' object is not subscriptable"
     ]
    }
   ],
   "source": [
    "d = np.array([{1,2,3},{4,5,6},{1,2,3}])\n",
    "d\n",
    "d[1][0] #error bcuz it's considered as a 1D array and not 2D array"
   ]
  },
  {
   "cell_type": "code",
   "execution_count": 31,
   "id": "8c78a507",
   "metadata": {},
   "outputs": [
    {
     "data": {
      "text/plain": [
       "{1, 2, 3}"
      ]
     },
     "execution_count": 31,
     "metadata": {},
     "output_type": "execute_result"
    }
   ],
   "source": [
    "d[0] #won't show any error cuz it's linear"
   ]
  },
  {
   "cell_type": "code",
   "execution_count": 35,
   "id": "d718fcff",
   "metadata": {},
   "outputs": [
    {
     "ename": "ValueError",
     "evalue": "setting an array element with a sequence. The requested array has an inhomogeneous shape after 1 dimensions. The detected shape was (3,) + inhomogeneous part.",
     "output_type": "error",
     "traceback": [
      "\u001b[1;31m---------------------------------------------------------------------------\u001b[0m",
      "\u001b[1;31mValueError\u001b[0m                                Traceback (most recent call last)",
      "Cell \u001b[1;32mIn[35], line 1\u001b[0m\n\u001b[1;32m----> 1\u001b[0m d \u001b[38;5;241m=\u001b[39m np\u001b[38;5;241m.\u001b[39marray([{\u001b[38;5;241m1\u001b[39m,\u001b[38;5;241m2\u001b[39m,\u001b[38;5;241m3\u001b[39m},{\u001b[38;5;241m4\u001b[39m,\u001b[38;5;241m5\u001b[39m,\u001b[38;5;241m6\u001b[39m},(\u001b[38;5;241m1\u001b[39m,\u001b[38;5;241m2\u001b[39m,\u001b[38;5;241m3\u001b[39m)])\n",
      "\u001b[1;31mValueError\u001b[0m: setting an array element with a sequence. The requested array has an inhomogeneous shape after 1 dimensions. The detected shape was (3,) + inhomogeneous part."
     ]
    }
   ],
   "source": [
    "d = np.array([{1,2,3},{4,5,6},(1,2,3)]) #must contain all sets or will throw error"
   ]
  },
  {
   "cell_type": "code",
   "execution_count": 24,
   "id": "a162bd6f",
   "metadata": {},
   "outputs": [
    {
     "name": "stdout",
     "output_type": "stream",
     "text": [
      "[[1 2 3 4]\n",
      " [5 6 7 8]\n",
      " [1 3 5 7]\n",
      " [2 4 6 8]]\n"
     ]
    }
   ],
   "source": [
    "c = np.array([[1,2,3,4],[5,6,7,8],[1,3,5,7],[2,4,6,8]])\n",
    "print(c)"
   ]
  },
  {
   "cell_type": "markdown",
   "id": "41067e4e",
   "metadata": {},
   "source": [
    "ARRAY Attributes"
   ]
  },
  {
   "cell_type": "code",
   "execution_count": 26,
   "id": "518cf780",
   "metadata": {},
   "outputs": [
    {
     "data": {
      "text/plain": [
       "(4, 4)"
      ]
     },
     "execution_count": 26,
     "metadata": {},
     "output_type": "execute_result"
    }
   ],
   "source": [
    "c.shape  '''to check the size of 2d array'''"
   ]
  },
  {
   "cell_type": "code",
   "execution_count": 27,
   "id": "6c9d92a7",
   "metadata": {},
   "outputs": [
    {
     "data": {
      "text/plain": [
       "16"
      ]
     },
     "execution_count": 27,
     "metadata": {},
     "output_type": "execute_result"
    }
   ],
   "source": [
    "c.size  '''to check the number of elements'''"
   ]
  },
  {
   "cell_type": "code",
   "execution_count": 28,
   "id": "b0d6d3c3",
   "metadata": {},
   "outputs": [
    {
     "data": {
      "text/plain": [
       "2"
      ]
     },
     "execution_count": 28,
     "metadata": {},
     "output_type": "execute_result"
    }
   ],
   "source": [
    "c.ndim  '''to know the dimensions of array'''"
   ]
  },
  {
   "cell_type": "markdown",
   "id": "329f96e4",
   "metadata": {},
   "source": [
    "arange(array range) :- It returns a 1d array of given range"
   ]
  },
  {
   "cell_type": "code",
   "execution_count": 18,
   "id": "0f0a81fe",
   "metadata": {},
   "outputs": [
    {
     "data": {
      "text/plain": [
       "array([ 1,  2,  3,  4,  5,  6,  7,  8,  9, 10])"
      ]
     },
     "execution_count": 18,
     "metadata": {},
     "output_type": "execute_result"
    }
   ],
   "source": [
    "np.arange(1,11)"
   ]
  },
  {
   "cell_type": "raw",
   "id": "0f9f2f0d",
   "metadata": {},
   "source": [
    "Zero's Matrix:-It'll take float by default so elements will be 0."
   ]
  },
  {
   "cell_type": "code",
   "execution_count": 31,
   "id": "467ae255",
   "metadata": {},
   "outputs": [
    {
     "data": {
      "text/plain": [
       "array([0., 0., 0., 0., 0.])"
      ]
     },
     "execution_count": 31,
     "metadata": {},
     "output_type": "execute_result"
    }
   ],
   "source": [
    "np.zeros(5)"
   ]
  },
  {
   "cell_type": "code",
   "execution_count": 32,
   "id": "a1b185f4",
   "metadata": {},
   "outputs": [
    {
     "data": {
      "text/plain": [
       "array([[0., 0., 0., 0., 0.],\n",
       "       [0., 0., 0., 0., 0.],\n",
       "       [0., 0., 0., 0., 0.],\n",
       "       [0., 0., 0., 0., 0.],\n",
       "       [0., 0., 0., 0., 0.]])"
      ]
     },
     "execution_count": 32,
     "metadata": {},
     "output_type": "execute_result"
    }
   ],
   "source": [
    "np.zeros((5,5))"
   ]
  },
  {
   "cell_type": "markdown",
   "id": "dcacc818",
   "metadata": {},
   "source": [
    "One's Array"
   ]
  },
  {
   "cell_type": "code",
   "execution_count": 33,
   "id": "76adc2a8",
   "metadata": {},
   "outputs": [
    {
     "data": {
      "text/plain": [
       "array([1., 1., 1., 1.])"
      ]
     },
     "execution_count": 33,
     "metadata": {},
     "output_type": "execute_result"
    }
   ],
   "source": [
    "np.ones(4)"
   ]
  },
  {
   "cell_type": "code",
   "execution_count": 35,
   "id": "1cd97919",
   "metadata": {},
   "outputs": [
    {
     "data": {
      "text/plain": [
       "array([[1., 1., 1., 1., 1.],\n",
       "       [1., 1., 1., 1., 1.],\n",
       "       [1., 1., 1., 1., 1.],\n",
       "       [1., 1., 1., 1., 1.]])"
      ]
     },
     "execution_count": 35,
     "metadata": {},
     "output_type": "execute_result"
    }
   ],
   "source": [
    "np.ones((4,5))"
   ]
  },
  {
   "cell_type": "markdown",
   "id": "5caac43e",
   "metadata": {},
   "source": [
    "Full array:- Custom array of same elements and custom size                                               \n",
    "full(length,element)"
   ]
  },
  {
   "cell_type": "code",
   "execution_count": 36,
   "id": "35097fbd",
   "metadata": {},
   "outputs": [
    {
     "data": {
      "text/plain": [
       "array([6, 6, 6, 6])"
      ]
     },
     "execution_count": 36,
     "metadata": {},
     "output_type": "execute_result"
    }
   ],
   "source": [
    "np.full(4,6)"
   ]
  },
  {
   "cell_type": "code",
   "execution_count": 51,
   "id": "e012503f",
   "metadata": {},
   "outputs": [
    {
     "data": {
      "text/plain": [
       "array([[10, 10, 10, 10],\n",
       "       [10, 10, 10, 10],\n",
       "       [10, 10, 10, 10],\n",
       "       [10, 10, 10, 10]])"
      ]
     },
     "execution_count": 51,
     "metadata": {},
     "output_type": "execute_result"
    }
   ],
   "source": [
    "np.full((4,4),10) #2nd matrix can be strings,space or any datatype"
   ]
  },
  {
   "cell_type": "code",
   "execution_count": 39,
   "id": "0a0ccdc8",
   "metadata": {},
   "outputs": [
    {
     "data": {
      "text/plain": [
       "array([[1., 0., 0., 0.],\n",
       "       [0., 1., 0., 0.],\n",
       "       [0., 0., 1., 0.],\n",
       "       [0., 0., 0., 1.]])"
      ]
     },
     "execution_count": 39,
     "metadata": {},
     "output_type": "execute_result"
    }
   ],
   "source": [
    "np.eye(4) '''To create an identity matrix'''"
   ]
  },
  {
   "cell_type": "markdown",
   "id": "9cc4dd01",
   "metadata": {},
   "source": [
    "linspace :- Equally distributed numbers"
   ]
  },
  {
   "cell_type": "code",
   "execution_count": 40,
   "id": "2e2c080e",
   "metadata": {},
   "outputs": [
    {
     "data": {
      "text/plain": [
       "array([  1.,  12.,  23.,  34.,  45.,  56.,  67.,  78.,  89., 100.])"
      ]
     },
     "execution_count": 40,
     "metadata": {},
     "output_type": "execute_result"
    }
   ],
   "source": [
    "np.linspace(1,100,10) '''10 letters between 1 and 12 and so on'''"
   ]
  },
  {
   "cell_type": "code",
   "execution_count": 41,
   "id": "354144ae",
   "metadata": {},
   "outputs": [
    {
     "data": {
      "text/plain": [
       "array([  1.        ,   1.49748744,   1.99497487,   2.49246231,\n",
       "         2.98994975,   3.48743719,   3.98492462,   4.48241206,\n",
       "         4.9798995 ,   5.47738693,   5.97487437,   6.47236181,\n",
       "         6.96984925,   7.46733668,   7.96482412,   8.46231156,\n",
       "         8.95979899,   9.45728643,   9.95477387,  10.45226131,\n",
       "        10.94974874,  11.44723618,  11.94472362,  12.44221106,\n",
       "        12.93969849,  13.43718593,  13.93467337,  14.4321608 ,\n",
       "        14.92964824,  15.42713568,  15.92462312,  16.42211055,\n",
       "        16.91959799,  17.41708543,  17.91457286,  18.4120603 ,\n",
       "        18.90954774,  19.40703518,  19.90452261,  20.40201005,\n",
       "        20.89949749,  21.39698492,  21.89447236,  22.3919598 ,\n",
       "        22.88944724,  23.38693467,  23.88442211,  24.38190955,\n",
       "        24.87939698,  25.37688442,  25.87437186,  26.3718593 ,\n",
       "        26.86934673,  27.36683417,  27.86432161,  28.36180905,\n",
       "        28.85929648,  29.35678392,  29.85427136,  30.35175879,\n",
       "        30.84924623,  31.34673367,  31.84422111,  32.34170854,\n",
       "        32.83919598,  33.33668342,  33.83417085,  34.33165829,\n",
       "        34.82914573,  35.32663317,  35.8241206 ,  36.32160804,\n",
       "        36.81909548,  37.31658291,  37.81407035,  38.31155779,\n",
       "        38.80904523,  39.30653266,  39.8040201 ,  40.30150754,\n",
       "        40.79899497,  41.29648241,  41.79396985,  42.29145729,\n",
       "        42.78894472,  43.28643216,  43.7839196 ,  44.28140704,\n",
       "        44.77889447,  45.27638191,  45.77386935,  46.27135678,\n",
       "        46.76884422,  47.26633166,  47.7638191 ,  48.26130653,\n",
       "        48.75879397,  49.25628141,  49.75376884,  50.25125628,\n",
       "        50.74874372,  51.24623116,  51.74371859,  52.24120603,\n",
       "        52.73869347,  53.2361809 ,  53.73366834,  54.23115578,\n",
       "        54.72864322,  55.22613065,  55.72361809,  56.22110553,\n",
       "        56.71859296,  57.2160804 ,  57.71356784,  58.21105528,\n",
       "        58.70854271,  59.20603015,  59.70351759,  60.20100503,\n",
       "        60.69849246,  61.1959799 ,  61.69346734,  62.19095477,\n",
       "        62.68844221,  63.18592965,  63.68341709,  64.18090452,\n",
       "        64.67839196,  65.1758794 ,  65.67336683,  66.17085427,\n",
       "        66.66834171,  67.16582915,  67.66331658,  68.16080402,\n",
       "        68.65829146,  69.15577889,  69.65326633,  70.15075377,\n",
       "        70.64824121,  71.14572864,  71.64321608,  72.14070352,\n",
       "        72.63819095,  73.13567839,  73.63316583,  74.13065327,\n",
       "        74.6281407 ,  75.12562814,  75.62311558,  76.12060302,\n",
       "        76.61809045,  77.11557789,  77.61306533,  78.11055276,\n",
       "        78.6080402 ,  79.10552764,  79.60301508,  80.10050251,\n",
       "        80.59798995,  81.09547739,  81.59296482,  82.09045226,\n",
       "        82.5879397 ,  83.08542714,  83.58291457,  84.08040201,\n",
       "        84.57788945,  85.07537688,  85.57286432,  86.07035176,\n",
       "        86.5678392 ,  87.06532663,  87.56281407,  88.06030151,\n",
       "        88.55778894,  89.05527638,  89.55276382,  90.05025126,\n",
       "        90.54773869,  91.04522613,  91.54271357,  92.04020101,\n",
       "        92.53768844,  93.03517588,  93.53266332,  94.03015075,\n",
       "        94.52763819,  95.02512563,  95.52261307,  96.0201005 ,\n",
       "        96.51758794,  97.01507538,  97.51256281,  98.01005025,\n",
       "        98.50753769,  99.00502513,  99.50251256, 100.        ])"
      ]
     },
     "execution_count": 41,
     "metadata": {},
     "output_type": "execute_result"
    }
   ],
   "source": [
    "np.linspace(1,100,200)"
   ]
  },
  {
   "cell_type": "markdown",
   "id": "1f82183c",
   "metadata": {},
   "source": [
    "Random Numbers"
   ]
  },
  {
   "cell_type": "code",
   "execution_count": 43,
   "id": "57cf1622",
   "metadata": {},
   "outputs": [
    {
     "data": {
      "text/plain": [
       "0.3429929559262843"
      ]
     },
     "execution_count": 43,
     "metadata": {},
     "output_type": "execute_result"
    }
   ],
   "source": [
    "np.random.rand()"
   ]
  },
  {
   "cell_type": "code",
   "execution_count": 46,
   "id": "8f05894f",
   "metadata": {},
   "outputs": [
    {
     "data": {
      "text/plain": [
       "array([0.35378011, 0.60806168, 0.32731039, 0.74038714, 0.04370151])"
      ]
     },
     "execution_count": 46,
     "metadata": {},
     "output_type": "execute_result"
    }
   ],
   "source": [
    "np.random.rand(5)   #5 elements of random numbers"
   ]
  },
  {
   "cell_type": "code",
   "execution_count": 49,
   "id": "e6db061d",
   "metadata": {},
   "outputs": [
    {
     "data": {
      "text/plain": [
       "array([[0.05139526, 0.85924297, 0.83424852, 0.60663143],\n",
       "       [0.69553155, 0.97623125, 0.85816188, 0.95072231],\n",
       "       [0.78829893, 0.86055399, 0.76786493, 0.06739233]])"
      ]
     },
     "execution_count": 49,
     "metadata": {},
     "output_type": "execute_result"
    }
   ],
   "source": [
    " np.random.rand(3,4) #for 2d matrix"
   ]
  },
  {
   "cell_type": "code",
   "execution_count": 50,
   "id": "0cdc9135",
   "metadata": {},
   "outputs": [
    {
     "data": {
      "text/plain": [
       "array([[87.63040301, 26.95291497, 48.20355291, 83.27100072],\n",
       "       [75.43204848, 65.4418155 , 48.74135787, 10.77865763],\n",
       "       [10.72202154, 41.06694896,  8.42473414, 46.57285256]])"
      ]
     },
     "execution_count": 50,
     "metadata": {},
     "output_type": "execute_result"
    }
   ],
   "source": [
    "np.random.rand(3,4) * 100 #random numbers under 100"
   ]
  },
  {
   "cell_type": "code",
   "execution_count": 53,
   "id": "02ad268a",
   "metadata": {},
   "outputs": [
    {
     "data": {
      "text/plain": [
       "4"
      ]
     },
     "execution_count": 53,
     "metadata": {},
     "output_type": "execute_result"
    }
   ],
   "source": [
    "np.random.randint(1,10)"
   ]
  },
  {
   "cell_type": "code",
   "execution_count": 38,
   "id": "ca01a7ed",
   "metadata": {},
   "outputs": [
    {
     "data": {
      "text/plain": [
       "array([4, 6, 9, 7])"
      ]
     },
     "execution_count": 38,
     "metadata": {},
     "output_type": "execute_result"
    }
   ],
   "source": [
    "np.random.randint(1,10,4)"
   ]
  },
  {
   "cell_type": "code",
   "execution_count": 54,
   "id": "a83057d8",
   "metadata": {},
   "outputs": [
    {
     "data": {
      "text/plain": [
       "array([[2, 5, 1, 6],\n",
       "       [2, 2, 8, 5],\n",
       "       [9, 9, 9, 1]])"
      ]
     },
     "execution_count": 54,
     "metadata": {},
     "output_type": "execute_result"
    }
   ],
   "source": [
    "np.random.randint(1,10,(3,4))"
   ]
  },
  {
   "cell_type": "code",
   "execution_count": 59,
   "id": "e69f88fb",
   "metadata": {},
   "outputs": [
    {
     "data": {
      "text/plain": [
       "[1, 2, 3, 4, 5, 6, 7, 8]"
      ]
     },
     "execution_count": 59,
     "metadata": {},
     "output_type": "execute_result"
    }
   ],
   "source": [
    "l1 = [1,2,3,4]\n",
    "l2 = [5,6,7,8]\n",
    "l1+l2"
   ]
  },
  {
   "cell_type": "code",
   "execution_count": 70,
   "id": "a5e7f487",
   "metadata": {},
   "outputs": [
    {
     "data": {
      "text/plain": [
       "array([ 6,  8, 10, 12])"
      ]
     },
     "execution_count": 70,
     "metadata": {},
     "output_type": "execute_result"
    }
   ],
   "source": [
    "a = np.array(l1)\n",
    "b = np.array(l2)\n",
    "a+b"
   ]
  },
  {
   "cell_type": "markdown",
   "id": "aac04fa1",
   "metadata": {},
   "source": [
    "Mathematical Array Functions"
   ]
  },
  {
   "cell_type": "code",
   "execution_count": 71,
   "id": "bce770c0",
   "metadata": {},
   "outputs": [
    {
     "data": {
      "text/plain": [
       "array([-4, -4, -4, -4])"
      ]
     },
     "execution_count": 71,
     "metadata": {},
     "output_type": "execute_result"
    }
   ],
   "source": [
    "np.add(a,b)\n",
    "np.subtract(a,b)"
   ]
  },
  {
   "cell_type": "code",
   "execution_count": 73,
   "id": "098989c0",
   "metadata": {},
   "outputs": [
    {
     "data": {
      "text/plain": [
       "array([ 5, 12, 21, 32])"
      ]
     },
     "execution_count": 73,
     "metadata": {},
     "output_type": "execute_result"
    }
   ],
   "source": [
    "np.multiply(a,b)"
   ]
  },
  {
   "cell_type": "code",
   "execution_count": 44,
   "id": "c9e64438",
   "metadata": {},
   "outputs": [
    {
     "ename": "ValueError",
     "evalue": "operands could not be broadcast together with shapes (2,3) (3,3) ",
     "output_type": "error",
     "traceback": [
      "\u001b[1;31m---------------------------------------------------------------------------\u001b[0m",
      "\u001b[1;31mValueError\u001b[0m                                Traceback (most recent call last)",
      "Cell \u001b[1;32mIn[44], line 6\u001b[0m\n\u001b[0;32m      4\u001b[0m x \u001b[38;5;241m=\u001b[39m np\u001b[38;5;241m.\u001b[39marray(a)\n\u001b[0;32m      5\u001b[0m y \u001b[38;5;241m=\u001b[39m np\u001b[38;5;241m.\u001b[39marray(b)\n\u001b[1;32m----> 6\u001b[0m np\u001b[38;5;241m.\u001b[39mmultiply(x,y)\n",
      "\u001b[1;31mValueError\u001b[0m: operands could not be broadcast together with shapes (2,3) (3,3) "
     ]
    }
   ],
   "source": [
    "#multiply is not applicable for 2D arrays,it'll multiply matrix element wise so,we need matrix of same size\n",
    "a = [[1,2,3],[1,2,3]]\n",
    "b = [[1,2,3],[4,5,6],[7,8,9]]\n",
    "x = np.array(a)\n",
    "y = np.array(b)\n",
    "np.multiply(x,y)"
   ]
  },
  {
   "cell_type": "code",
   "execution_count": 74,
   "id": "d6f28667",
   "metadata": {},
   "outputs": [
    {
     "data": {
      "text/plain": [
       "array([0.2       , 0.33333333, 0.42857143, 0.5       ])"
      ]
     },
     "execution_count": 74,
     "metadata": {},
     "output_type": "execute_result"
    }
   ],
   "source": [
    "np.divide(a,b)"
   ]
  },
  {
   "cell_type": "code",
   "execution_count": 75,
   "id": "8edf7efa",
   "metadata": {},
   "outputs": [
    {
     "data": {
      "text/plain": [
       "array([1, 2, 3, 4])"
      ]
     },
     "execution_count": 75,
     "metadata": {},
     "output_type": "execute_result"
    }
   ],
   "source": [
    "np.mod(a,b)"
   ]
  },
  {
   "cell_type": "code",
   "execution_count": 76,
   "id": "7bed1329",
   "metadata": {},
   "outputs": [
    {
     "data": {
      "text/plain": [
       "(array([0, 0, 0, 0]), array([1, 2, 3, 4]))"
      ]
     },
     "execution_count": 76,
     "metadata": {},
     "output_type": "execute_result"
    }
   ],
   "source": [
    "np.divmod(a,b) #returns both division and mod"
   ]
  },
  {
   "cell_type": "code",
   "execution_count": 77,
   "id": "39cbd238",
   "metadata": {},
   "outputs": [
    {
     "data": {
      "text/plain": [
       "array([1.        , 1.41421356, 1.73205081, 2.        ])"
      ]
     },
     "execution_count": 77,
     "metadata": {},
     "output_type": "execute_result"
    }
   ],
   "source": [
    "np.sqrt(a)"
   ]
  },
  {
   "cell_type": "code",
   "execution_count": 78,
   "id": "1b6dca88",
   "metadata": {},
   "outputs": [
    {
     "data": {
      "text/plain": [
       "array([ 1,  4,  9, 16], dtype=int32)"
      ]
     },
     "execution_count": 78,
     "metadata": {},
     "output_type": "execute_result"
    }
   ],
   "source": [
    "np.power(a,2)"
   ]
  },
  {
   "cell_type": "code",
   "execution_count": 79,
   "id": "7fc9d802",
   "metadata": {},
   "outputs": [
    {
     "data": {
      "text/plain": [
       "array([0.        , 0.69314718, 1.09861229, 1.38629436])"
      ]
     },
     "execution_count": 79,
     "metadata": {},
     "output_type": "execute_result"
    }
   ],
   "source": [
    "np.log(a)"
   ]
  },
  {
   "cell_type": "code",
   "execution_count": 81,
   "id": "d8973f77",
   "metadata": {},
   "outputs": [
    {
     "data": {
      "text/plain": [
       "array([-0.95892427, -0.2794155 ,  0.6569866 ,  0.98935825])"
      ]
     },
     "execution_count": 81,
     "metadata": {},
     "output_type": "execute_result"
    }
   ],
   "source": [
    "np.sin(b)"
   ]
  },
  {
   "cell_type": "code",
   "execution_count": 82,
   "id": "026b27e0",
   "metadata": {},
   "outputs": [
    {
     "data": {
      "text/plain": [
       "array([0.        , 0.63092975, 1.        , 1.26185951])"
      ]
     },
     "execution_count": 82,
     "metadata": {},
     "output_type": "execute_result"
    }
   ],
   "source": [
    "top = np.log(a)   #to find log of custom base\n",
    "base = np.log(3)\n",
    "np.divide(top,base)"
   ]
  },
  {
   "cell_type": "code",
   "execution_count": 83,
   "id": "740ae103",
   "metadata": {},
   "outputs": [
    {
     "data": {
      "text/plain": [
       "array([ 0.54030231, -0.41614684, -0.9899925 , -0.65364362])"
      ]
     },
     "execution_count": 83,
     "metadata": {},
     "output_type": "execute_result"
    }
   ],
   "source": [
    "np.cos(a)"
   ]
  },
  {
   "cell_type": "code",
   "execution_count": 84,
   "id": "50076609",
   "metadata": {},
   "outputs": [
    {
     "data": {
      "text/plain": [
       "array([ 0.84147098,  0.90929743,  0.14112001, -0.7568025 ])"
      ]
     },
     "execution_count": 84,
     "metadata": {},
     "output_type": "execute_result"
    }
   ],
   "source": [
    "np.sin(a)"
   ]
  },
  {
   "cell_type": "code",
   "execution_count": 85,
   "id": "e389f757",
   "metadata": {},
   "outputs": [
    {
     "data": {
      "text/plain": [
       "array([-3.38051501, -0.29100619,  0.87144798, -6.79971146])"
      ]
     },
     "execution_count": 85,
     "metadata": {},
     "output_type": "execute_result"
    }
   ],
   "source": [
    "np.tan(b)"
   ]
  },
  {
   "cell_type": "code",
   "execution_count": 88,
   "id": "da502fd3",
   "metadata": {},
   "outputs": [
    {
     "data": {
      "text/plain": [
       "array([-0.29581292, -3.436353  ,  1.14751542, -0.14706506])"
      ]
     },
     "execution_count": 88,
     "metadata": {},
     "output_type": "execute_result"
    }
   ],
   "source": [
    "np.divide(1,np.tan(b))"
   ]
  },
  {
   "cell_type": "markdown",
   "id": "b95cd8d4",
   "metadata": {},
   "source": [
    "Statistical operators"
   ]
  },
  {
   "cell_type": "code",
   "execution_count": 94,
   "id": "034dc96e",
   "metadata": {},
   "outputs": [
    {
     "data": {
      "text/plain": [
       "4"
      ]
     },
     "execution_count": 94,
     "metadata": {},
     "output_type": "execute_result"
    }
   ],
   "source": [
    "a.max()"
   ]
  },
  {
   "cell_type": "code",
   "execution_count": 91,
   "id": "4e5b9ac9",
   "metadata": {},
   "outputs": [
    {
     "data": {
      "text/plain": [
       "1"
      ]
     },
     "execution_count": 91,
     "metadata": {},
     "output_type": "execute_result"
    }
   ],
   "source": [
    "a.min()"
   ]
  },
  {
   "cell_type": "code",
   "execution_count": 92,
   "id": "54c3b1aa",
   "metadata": {},
   "outputs": [
    {
     "data": {
      "text/plain": [
       "2.5"
      ]
     },
     "execution_count": 92,
     "metadata": {},
     "output_type": "execute_result"
    }
   ],
   "source": [
    "np.median(a)"
   ]
  },
  {
   "cell_type": "code",
   "execution_count": 93,
   "id": "eb365a2c",
   "metadata": {},
   "outputs": [
    {
     "data": {
      "text/plain": [
       "2.5"
      ]
     },
     "execution_count": 93,
     "metadata": {},
     "output_type": "execute_result"
    }
   ],
   "source": [
    " np.mean(a)"
   ]
  },
  {
   "cell_type": "code",
   "execution_count": 95,
   "id": "1eff708b",
   "metadata": {},
   "outputs": [
    {
     "data": {
      "text/plain": [
       "1.118033988749895"
      ]
     },
     "execution_count": 95,
     "metadata": {},
     "output_type": "execute_result"
    }
   ],
   "source": [
    "a.std()"
   ]
  },
  {
   "cell_type": "code",
   "execution_count": 96,
   "id": "b7adbc99",
   "metadata": {},
   "outputs": [
    {
     "data": {
      "text/plain": [
       "1.25"
      ]
     },
     "execution_count": 96,
     "metadata": {},
     "output_type": "execute_result"
    }
   ],
   "source": [
    "a.var()"
   ]
  },
  {
   "cell_type": "code",
   "execution_count": 97,
   "id": "3ae337fc",
   "metadata": {},
   "outputs": [
    {
     "data": {
      "text/plain": [
       "array([ 5, 11, 18, 26])"
      ]
     },
     "execution_count": 97,
     "metadata": {},
     "output_type": "execute_result"
    }
   ],
   "source": [
    "b.cumsum()  #cumulative sum"
   ]
  },
  {
   "cell_type": "code",
   "execution_count": 100,
   "id": "a65aa971",
   "metadata": {},
   "outputs": [
    {
     "data": {
      "text/plain": [
       "array([1, 1, 1, 1, 2, 2, 2, 2, 3, 3, 3, 3, 4, 4, 4, 4])"
      ]
     },
     "execution_count": 100,
     "metadata": {},
     "output_type": "execute_result"
    }
   ],
   "source": [
    "#repeat :- repeat every elements \n",
    "a = np.array([1,2,3,4])\n",
    "np.repeat(a,4)"
   ]
  },
  {
   "cell_type": "code",
   "execution_count": 101,
   "id": "e51b0f2a",
   "metadata": {},
   "outputs": [
    {
     "data": {
      "text/plain": [
       "array([3, 3, 3, 3])"
      ]
     },
     "execution_count": 101,
     "metadata": {},
     "output_type": "execute_result"
    }
   ],
   "source": [
    "np.repeat(a[2],4)"
   ]
  },
  {
   "cell_type": "code",
   "execution_count": 102,
   "id": "90d4b3a3",
   "metadata": {},
   "outputs": [
    {
     "data": {
      "text/plain": [
       "array([1, 2, 3, 4, 1, 2, 3, 4, 1, 2, 3, 4, 1, 2, 3, 4])"
      ]
     },
     "execution_count": 102,
     "metadata": {},
     "output_type": "execute_result"
    }
   ],
   "source": [
    "#tile :- repeats the whole sequence n times\n",
    "np.tile(a,4)"
   ]
  },
  {
   "cell_type": "code",
   "execution_count": 103,
   "id": "78810c05",
   "metadata": {},
   "outputs": [
    {
     "data": {
      "text/plain": [
       "array([3, 3, 3, 3])"
      ]
     },
     "execution_count": 103,
     "metadata": {},
     "output_type": "execute_result"
    }
   ],
   "source": [
    "np.tile(a[2],4)"
   ]
  },
  {
   "cell_type": "markdown",
   "id": "d9696d87",
   "metadata": {},
   "source": [
    "WHERE :- Returns all the positions containing the required element"
   ]
  },
  {
   "cell_type": "code",
   "execution_count": 106,
   "id": "4a04bfff",
   "metadata": {},
   "outputs": [
    {
     "data": {
      "text/plain": [
       "(array([0, 4, 8], dtype=int64),)"
      ]
     },
     "execution_count": 106,
     "metadata": {},
     "output_type": "execute_result"
    }
   ],
   "source": [
    "b = np.array([1,2,3,4,1,3,2,3,1,3,5,6,7,7,9])\n",
    "np.where(b == 1)"
   ]
  },
  {
   "cell_type": "code",
   "execution_count": 107,
   "id": "d3242a7a",
   "metadata": {},
   "outputs": [
    {
     "data": {
      "text/plain": [
       "(array([ 1,  3,  6, 11], dtype=int64),)"
      ]
     },
     "execution_count": 107,
     "metadata": {},
     "output_type": "execute_result"
    }
   ],
   "source": [
    "np.where(b%2 == 0)"
   ]
  },
  {
   "cell_type": "markdown",
   "id": "7ef40ee5",
   "metadata": {},
   "source": [
    "Slicing / Indexing"
   ]
  },
  {
   "cell_type": "code",
   "execution_count": 109,
   "id": "ecd96f79",
   "metadata": {},
   "outputs": [
    {
     "name": "stdout",
     "output_type": "stream",
     "text": [
      "[ 1  3 56 78 90 45 67]\n"
     ]
    }
   ],
   "source": [
    "arr = np.array([1,3,56,78,90,45,67])\n",
    "print(arr)"
   ]
  },
  {
   "cell_type": "code",
   "execution_count": 110,
   "id": "ac796070",
   "metadata": {},
   "outputs": [
    {
     "data": {
      "text/plain": [
       "4"
      ]
     },
     "execution_count": 110,
     "metadata": {},
     "output_type": "execute_result"
    }
   ],
   "source": [
    "a[-1]"
   ]
  },
  {
   "cell_type": "code",
   "execution_count": 111,
   "id": "59ee2484",
   "metadata": {},
   "outputs": [
    {
     "data": {
      "text/plain": [
       "array([4, 3, 2])"
      ]
     },
     "execution_count": 111,
     "metadata": {},
     "output_type": "execute_result"
    }
   ],
   "source": [
    "a[-1:-4:-1]"
   ]
  },
  {
   "cell_type": "markdown",
   "id": "7ec84a19",
   "metadata": {},
   "source": [
    "Slicing / Indexing In 2D Matrix"
   ]
  },
  {
   "cell_type": "code",
   "execution_count": 47,
   "id": "41ddd1b8",
   "metadata": {},
   "outputs": [
    {
     "name": "stdout",
     "output_type": "stream",
     "text": [
      "[[ 7 30 25  8]\n",
      " [31 45  1 45]\n",
      " [35  6 38 46]\n",
      " [49 29 30 33]]\n"
     ]
    }
   ],
   "source": [
    "b = np.random.randint(1,50,(4,4))\n",
    "print(b)"
   ]
  },
  {
   "cell_type": "code",
   "execution_count": 49,
   "id": "c2e5f845",
   "metadata": {},
   "outputs": [
    {
     "data": {
      "text/plain": [
       "29"
      ]
     },
     "execution_count": 49,
     "metadata": {},
     "output_type": "execute_result"
    }
   ],
   "source": [
    "b[3,1]\n",
    "b[3][1]"
   ]
  },
  {
   "cell_type": "code",
   "execution_count": 120,
   "id": "59ea4ef4",
   "metadata": {},
   "outputs": [
    {
     "data": {
      "text/plain": [
       "array([23,  6, 41,  6])"
      ]
     },
     "execution_count": 120,
     "metadata": {},
     "output_type": "execute_result"
    }
   ],
   "source": [
    "b[3] #returns the 3rd element of 2d matrix or the row"
   ]
  },
  {
   "cell_type": "markdown",
   "id": "df8ff6cf",
   "metadata": {},
   "source": [
    "Row Slicing & Column Slicing"
   ]
  },
  {
   "cell_type": "code",
   "execution_count": 123,
   "id": "61da2b84",
   "metadata": {},
   "outputs": [
    {
     "data": {
      "text/plain": [
       "array([[17, 41, 18],\n",
       "       [38,  7, 10]])"
      ]
     },
     "execution_count": 123,
     "metadata": {},
     "output_type": "execute_result"
    }
   ],
   "source": [
    "b[0:2,0:3]"
   ]
  },
  {
   "cell_type": "code",
   "execution_count": 124,
   "id": "75402665",
   "metadata": {},
   "outputs": [
    {
     "data": {
      "text/plain": [
       "array([[17, 41, 18, 19],\n",
       "       [38,  7, 10, 43],\n",
       "       [15, 13,  2, 37],\n",
       "       [23,  6, 41,  6]])"
      ]
     },
     "execution_count": 124,
     "metadata": {},
     "output_type": "execute_result"
    }
   ],
   "source": [
    "b[:,:]"
   ]
  },
  {
   "cell_type": "code",
   "execution_count": 130,
   "id": "a6ed4ccc",
   "metadata": {},
   "outputs": [
    {
     "data": {
      "text/plain": [
       "array([[17, 18],\n",
       "       [38, 10],\n",
       "       [15,  2],\n",
       "       [23, 41]])"
      ]
     },
     "execution_count": 130,
     "metadata": {},
     "output_type": "execute_result"
    }
   ],
   "source": [
    "b[:,::2]    #all rows,even column"
   ]
  },
  {
   "cell_type": "code",
   "execution_count": 128,
   "id": "b8bc4331",
   "metadata": {},
   "outputs": [
    {
     "data": {
      "text/plain": [
       "array([[17, 18],\n",
       "       [15,  2]])"
      ]
     },
     "execution_count": 128,
     "metadata": {},
     "output_type": "execute_result"
    }
   ],
   "source": [
    "b[::2,::2]    #odd rows,odd column"
   ]
  },
  {
   "cell_type": "code",
   "execution_count": 131,
   "id": "dc6c2413",
   "metadata": {},
   "outputs": [
    {
     "name": "stdout",
     "output_type": "stream",
     "text": [
      "[[ 2  2]\n",
      " [13 18]]\n"
     ]
    }
   ],
   "source": [
    "a = np.random.randint(1,20,(2,2))\n",
    "print(a)"
   ]
  },
  {
   "cell_type": "code",
   "execution_count": 135,
   "id": "8792041f",
   "metadata": {},
   "outputs": [
    {
     "name": "stdout",
     "output_type": "stream",
     "text": [
      "[[ 6  4  4 12]\n",
      " [ 5 15 15  2]]\n"
     ]
    }
   ],
   "source": [
    "b =np.random.randint(1,20,(2,4))\n",
    "print(b)"
   ]
  },
  {
   "cell_type": "code",
   "execution_count": 134,
   "id": "659c2953",
   "metadata": {},
   "outputs": [
    {
     "name": "stdout",
     "output_type": "stream",
     "text": [
      "[[ 1  1  1  7]\n",
      " [ 3 16  6 10]\n",
      " [12 18  6 10]\n",
      " [ 3  4  7  1]]\n"
     ]
    }
   ],
   "source": [
    "c =np.random.randint(1,20,(4,4))\n",
    "print(c)"
   ]
  },
  {
   "cell_type": "markdown",
   "id": "d8b488eb",
   "metadata": {},
   "source": [
    "AXIS Attribute To Concatenate"
   ]
  },
  {
   "cell_type": "code",
   "execution_count": 136,
   "id": "05e06adf",
   "metadata": {},
   "outputs": [
    {
     "data": {
      "text/plain": [
       "array([[ 2,  2,  6,  4,  4, 12],\n",
       "       [13, 18,  5, 15, 15,  2]])"
      ]
     },
     "execution_count": 136,
     "metadata": {},
     "output_type": "execute_result"
    }
   ],
   "source": [
    "d = np.concatenate((a,b),axis = 1) #side by side adhesion\n",
    "d"
   ]
  },
  {
   "cell_type": "code",
   "execution_count": 140,
   "id": "b08d1d4f",
   "metadata": {},
   "outputs": [
    {
     "data": {
      "text/plain": [
       "array([[ 6,  4,  4, 12],\n",
       "       [ 5, 15, 15,  2],\n",
       "       [ 1,  1,  1,  7],\n",
       "       [ 3, 16,  6, 10],\n",
       "       [12, 18,  6, 10],\n",
       "       [ 3,  4,  7,  1]])"
      ]
     },
     "execution_count": 140,
     "metadata": {},
     "output_type": "execute_result"
    }
   ],
   "source": [
    "e = np.concatenate((b,c),axis = 0) #top on top adhesion\n",
    "e"
   ]
  },
  {
   "cell_type": "code",
   "execution_count": 142,
   "id": "a8e2789a",
   "metadata": {},
   "outputs": [
    {
     "data": {
      "text/plain": [
       "(2, 6)"
      ]
     },
     "execution_count": 142,
     "metadata": {},
     "output_type": "execute_result"
    }
   ],
   "source": [
    "d.shape"
   ]
  },
  {
   "cell_type": "markdown",
   "id": "8f48fc2e",
   "metadata": {},
   "source": [
    "STACKING : V-STACK & H-STACK"
   ]
  },
  {
   "cell_type": "code",
   "execution_count": 144,
   "id": "89f16b3a",
   "metadata": {},
   "outputs": [
    {
     "name": "stdout",
     "output_type": "stream",
     "text": [
      "[[ 2  2  6  4  4 12]\n",
      " [13 18  5 15 15  2]]\n"
     ]
    }
   ],
   "source": [
    "e = np.hstack((a,b))\n",
    "print(e)"
   ]
  },
  {
   "cell_type": "code",
   "execution_count": 146,
   "id": "16400d97",
   "metadata": {},
   "outputs": [
    {
     "name": "stdout",
     "output_type": "stream",
     "text": [
      "[[ 6  4  4 12]\n",
      " [ 5 15 15  2]\n",
      " [ 1  1  1  7]\n",
      " [ 3 16  6 10]\n",
      " [12 18  6 10]\n",
      " [ 3  4  7  1]]\n"
     ]
    }
   ],
   "source": [
    "v = np.vstack((b,c))\n",
    "print(v)"
   ]
  },
  {
   "cell_type": "markdown",
   "id": "f8012b08",
   "metadata": {},
   "source": [
    "Both the above methods have the same functionality"
   ]
  },
  {
   "cell_type": "markdown",
   "id": "a8d4af2e",
   "metadata": {},
   "source": [
    "Other Random Functions"
   ]
  },
  {
   "cell_type": "code",
   "execution_count": 11,
   "id": "ecaaf2ea",
   "metadata": {},
   "outputs": [
    {
     "data": {
      "text/plain": [
       "array([[1, 4, 7],\n",
       "       [2, 5, 8],\n",
       "       [3, 6, 9]])"
      ]
     },
     "execution_count": 11,
     "metadata": {},
     "output_type": "execute_result"
    }
   ],
   "source": [
    "import numpy as np\n",
    "a = np.array([[1,2,3],[4,5,6],[7,8,9]])   #transpose\n",
    "np.transpose(a)"
   ]
  },
  {
   "cell_type": "code",
   "execution_count": 2,
   "id": "040e21e8",
   "metadata": {},
   "outputs": [
    {
     "data": {
      "text/plain": [
       "array([1, 5, 9])"
      ]
     },
     "execution_count": 2,
     "metadata": {},
     "output_type": "execute_result"
    }
   ],
   "source": [
    "np.diagonal(a)"
   ]
  },
  {
   "cell_type": "code",
   "execution_count": 14,
   "id": "6d629606",
   "metadata": {},
   "outputs": [
    {
     "data": {
      "text/plain": [
       "array([[9, 8, 7],\n",
       "       [6, 5, 4],\n",
       "       [3, 2, 1]])"
      ]
     },
     "execution_count": 14,
     "metadata": {},
     "output_type": "execute_result"
    }
   ],
   "source": [
    "np.flip(a)   #Reverse the order of elements in an array along the given axis.\n",
    "#if no parameter is given it'll flip and rotate"
   ]
  },
  {
   "cell_type": "code",
   "execution_count": 15,
   "id": "e057e503",
   "metadata": {},
   "outputs": [
    {
     "data": {
      "text/plain": [
       "array([[7, 8, 9],\n",
       "       [4, 5, 6],\n",
       "       [1, 2, 3]])"
      ]
     },
     "execution_count": 15,
     "metadata": {},
     "output_type": "execute_result"
    }
   ],
   "source": [
    "np.flip(a,0) #it will flip vertically"
   ]
  },
  {
   "cell_type": "code",
   "execution_count": 16,
   "id": "694771ef",
   "metadata": {},
   "outputs": [
    {
     "data": {
      "text/plain": [
       "array([[3, 2, 1],\n",
       "       [6, 5, 4],\n",
       "       [9, 8, 7]])"
      ]
     },
     "execution_count": 16,
     "metadata": {},
     "output_type": "execute_result"
    }
   ],
   "source": [
    "np.flip(a,1)   #it will flip horizontally"
   ]
  },
  {
   "cell_type": "code",
   "execution_count": 8,
   "id": "1908e61f",
   "metadata": {},
   "outputs": [
    {
     "data": {
      "text/plain": [
       "array([[3, 2, 1],\n",
       "       [6, 5, 4],\n",
       "       [9, 8, 7]])"
      ]
     },
     "execution_count": 8,
     "metadata": {},
     "output_type": "execute_result"
    }
   ],
   "source": [
    "d = np.fliplr(a) #Reverse the order of elements along axis 1 (left/right).\n",
    "d"
   ]
  },
  {
   "cell_type": "code",
   "execution_count": 7,
   "id": "74ed43af",
   "metadata": {},
   "outputs": [
    {
     "data": {
      "text/plain": [
       "array([3, 5, 7])"
      ]
     },
     "execution_count": 7,
     "metadata": {},
     "output_type": "execute_result"
    }
   ],
   "source": [
    "np.diagonal(d)"
   ]
  },
  {
   "cell_type": "markdown",
   "id": "4094d3cb",
   "metadata": {},
   "source": [
    "Ways Of Creating Direct Matrix"
   ]
  },
  {
   "cell_type": "code",
   "execution_count": 9,
   "id": "36e6303f",
   "metadata": {},
   "outputs": [
    {
     "data": {
      "text/plain": [
       "matrix([[1, 2, 3],\n",
       "        [4, 5, 6]])"
      ]
     },
     "execution_count": 9,
     "metadata": {},
     "output_type": "execute_result"
    }
   ],
   "source": [
    "np.matrix('1 2 3; 4 5 6')"
   ]
  },
  {
   "cell_type": "code",
   "execution_count": 10,
   "id": "0335abcb",
   "metadata": {},
   "outputs": [
    {
     "data": {
      "text/plain": [
       "matrix([[1, 2, 3],\n",
       "        [4, 5, 6]])"
      ]
     },
     "execution_count": 10,
     "metadata": {},
     "output_type": "execute_result"
    }
   ],
   "source": [
    "np.matrix([[1,2,3],[4,5,6]])"
   ]
  }
 ],
 "metadata": {
  "kernelspec": {
   "display_name": "Python 3 (ipykernel)",
   "language": "python",
   "name": "python3"
  },
  "language_info": {
   "codemirror_mode": {
    "name": "ipython",
    "version": 3
   },
   "file_extension": ".py",
   "mimetype": "text/x-python",
   "name": "python",
   "nbconvert_exporter": "python",
   "pygments_lexer": "ipython3",
   "version": "3.11.5"
  }
 },
 "nbformat": 4,
 "nbformat_minor": 5
}
