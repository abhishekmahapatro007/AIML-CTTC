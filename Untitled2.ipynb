{
 "cells": [
  {
   "cell_type": "markdown",
   "id": "6f6aecb8",
   "metadata": {},
   "source": [
    "# Break Statement : The break is a keyword in python which is used to bring the program control out of the loop.\n"
   ]
  },
  {
   "cell_type": "code",
   "execution_count": 1,
   "id": "8c264d42",
   "metadata": {},
   "outputs": [
    {
     "name": "stdout",
     "output_type": "stream",
     "text": [
      "P\n",
      "y\n",
      "t\n"
     ]
    }
   ],
   "source": [
    "for i in 'Python':\n",
    "    if i == 'h':\n",
    "        break\n",
    "    print(i)"
   ]
  },
  {
   "cell_type": "markdown",
   "id": "0904a52c",
   "metadata": {},
   "source": [
    "# Continue Statement : the continue keyword return control of the iteration to the beginning of the Python for loop or Python while loop. All remaining lines in the prevailing iteration of the loop are skipped by the continue keyword, which returns execution to the beginning of the next iteration of the loop."
   ]
  },
  {
   "cell_type": "code",
   "execution_count": 2,
   "id": "87db096b",
   "metadata": {},
   "outputs": [
    {
     "name": "stdout",
     "output_type": "stream",
     "text": [
      "P\n",
      "y\n",
      "t\n",
      "o\n",
      "n\n"
     ]
    }
   ],
   "source": [
    "for i in 'Python':\n",
    "    if i == 'h':\n",
    "        continue\n",
    "    print(i)"
   ]
  },
  {
   "cell_type": "markdown",
   "id": "dbdba02f",
   "metadata": {},
   "source": [
    "# Pass Statement : The Python pass statement to write empty loops. Pass is also used for empty control statements, functions, and classes."
   ]
  },
  {
   "cell_type": "code",
   "execution_count": 3,
   "id": "88524c63",
   "metadata": {},
   "outputs": [
    {
     "name": "stdout",
     "output_type": "stream",
     "text": [
      "P\n",
      "y\n",
      "t\n",
      "h\n",
      "o\n",
      "n\n"
     ]
    }
   ],
   "source": [
    "for i in 'Python':\n",
    "    if i == 'h':\n",
    "        pass\n",
    "    print(i)"
   ]
  },
  {
   "cell_type": "code",
   "execution_count": 4,
   "id": "e6aab2f6",
   "metadata": {},
   "outputs": [],
   "source": [
    "i = 5\n",
    "if i>10:\n",
    "    pass"
   ]
  },
  {
   "cell_type": "markdown",
   "id": "e947f51e",
   "metadata": {},
   "source": [
    "# Functions : A reusable piece of code. Block of statements that does some specific task and returns something.\n",
    "\n",
    "<ul><li>By including functions, we can prevent repeating the same code block repeatedly in a program.\n",
    "<li>Python functions, once defined, can be called many times and from anywhere i\n",
    "n a program.\n",
    "<li>If our Python program is large, it can be separated into numerous functions which is simple to track.\n",
    "<li>The key accomplishment of Python functions is we can return as many outputs as we want with different arguments.\n"
   ]
  },
  {
   "cell_type": "markdown",
   "id": "1e8160cd",
   "metadata": {},
   "source": [
    "###### Syntax of Python Function:\n",
    "<pre><b>def function_name( parameters ):\n",
    "         # code block \n"
   ]
  },
  {
   "cell_type": "code",
   "execution_count": 5,
   "id": "fe5d77ac",
   "metadata": {},
   "outputs": [],
   "source": [
    "#function with no arguments\n",
    "def greet():\n",
    "    print(\"Hello Class !!!\")"
   ]
  },
  {
   "cell_type": "code",
   "execution_count": 6,
   "id": "eccd9465",
   "metadata": {},
   "outputs": [
    {
     "name": "stdout",
     "output_type": "stream",
     "text": [
      "Hello Class !!!\n"
     ]
    }
   ],
   "source": [
    "greet()"
   ]
  },
  {
   "cell_type": "code",
   "execution_count": 7,
   "id": "dee808e4",
   "metadata": {},
   "outputs": [],
   "source": [
    "#function with one argument\n",
    "def greet_person(name):\n",
    "    print(\"Hello\",name)"
   ]
  },
  {
   "cell_type": "code",
   "execution_count": 9,
   "id": "48bf37e1",
   "metadata": {},
   "outputs": [
    {
     "name": "stdout",
     "output_type": "stream",
     "text": [
      "Hello Jay\n"
     ]
    }
   ],
   "source": [
    "greet_person(\"Jay\")"
   ]
  },
  {
   "cell_type": "code",
   "execution_count": 10,
   "id": "5c21ad91",
   "metadata": {},
   "outputs": [
    {
     "name": "stdout",
     "output_type": "stream",
     "text": [
      "Hello Deep\n"
     ]
    }
   ],
   "source": [
    "greet_person(\"Deep\")"
   ]
  },
  {
   "cell_type": "code",
   "execution_count": 11,
   "id": "cef17e38",
   "metadata": {},
   "outputs": [
    {
     "name": "stdout",
     "output_type": "stream",
     "text": [
      "Hello Pratik\n"
     ]
    }
   ],
   "source": [
    "greet_person(\"Pratik\")"
   ]
  },
  {
   "cell_type": "code",
   "execution_count": 12,
   "id": "d6239739",
   "metadata": {},
   "outputs": [
    {
     "name": "stdout",
     "output_type": "stream",
     "text": [
      "Hello Abhishek\n"
     ]
    }
   ],
   "source": [
    "greet_person(\"Abhishek\")"
   ]
  },
  {
   "cell_type": "code",
   "execution_count": 13,
   "id": "b5a298d3",
   "metadata": {},
   "outputs": [
    {
     "name": "stdout",
     "output_type": "stream",
     "text": [
      "Hello Aryashree\n"
     ]
    }
   ],
   "source": [
    "greet_person(\"Aryashree\")"
   ]
  },
  {
   "cell_type": "code",
   "execution_count": 14,
   "id": "cb4d85d6",
   "metadata": {},
   "outputs": [],
   "source": [
    "#function with two argument\n",
    "def add(num1,num2):\n",
    "    print(num1 + num2)"
   ]
  },
  {
   "cell_type": "code",
   "execution_count": 15,
   "id": "8e1ca76d",
   "metadata": {},
   "outputs": [
    {
     "name": "stdout",
     "output_type": "stream",
     "text": [
      "22\n"
     ]
    }
   ],
   "source": [
    "add(12,10)"
   ]
  },
  {
   "cell_type": "code",
   "execution_count": 17,
   "id": "c19f8a3c",
   "metadata": {},
   "outputs": [
    {
     "name": "stdout",
     "output_type": "stream",
     "text": [
      "catdog\n"
     ]
    }
   ],
   "source": [
    "add('cat','dog')"
   ]
  },
  {
   "cell_type": "code",
   "execution_count": 18,
   "id": "15632cdc",
   "metadata": {},
   "outputs": [],
   "source": [
    "def add(num1,num2):\n",
    "    print(num1 + num2) + 10"
   ]
  },
  {
   "cell_type": "code",
   "execution_count": 19,
   "id": "fffd892a",
   "metadata": {},
   "outputs": [
    {
     "name": "stdout",
     "output_type": "stream",
     "text": [
      "30\n"
     ]
    },
    {
     "ename": "TypeError",
     "evalue": "unsupported operand type(s) for +: 'NoneType' and 'int'",
     "output_type": "error",
     "traceback": [
      "\u001b[1;31m---------------------------------------------------------------------------\u001b[0m",
      "\u001b[1;31mTypeError\u001b[0m                                 Traceback (most recent call last)",
      "\u001b[1;32m~\\AppData\\Local\\Temp\\ipykernel_3616\\2334285133.py\u001b[0m in \u001b[0;36m<module>\u001b[1;34m\u001b[0m\n\u001b[1;32m----> 1\u001b[1;33m \u001b[0madd\u001b[0m\u001b[1;33m(\u001b[0m\u001b[1;36m10\u001b[0m\u001b[1;33m,\u001b[0m\u001b[1;36m20\u001b[0m\u001b[1;33m)\u001b[0m\u001b[1;33m\u001b[0m\u001b[1;33m\u001b[0m\u001b[0m\n\u001b[0m",
      "\u001b[1;32m~\\AppData\\Local\\Temp\\ipykernel_3616\\1272250568.py\u001b[0m in \u001b[0;36madd\u001b[1;34m(num1, num2)\u001b[0m\n\u001b[0;32m      1\u001b[0m \u001b[1;32mdef\u001b[0m \u001b[0madd\u001b[0m\u001b[1;33m(\u001b[0m\u001b[0mnum1\u001b[0m\u001b[1;33m,\u001b[0m\u001b[0mnum2\u001b[0m\u001b[1;33m)\u001b[0m\u001b[1;33m:\u001b[0m\u001b[1;33m\u001b[0m\u001b[1;33m\u001b[0m\u001b[0m\n\u001b[1;32m----> 2\u001b[1;33m     \u001b[0mprint\u001b[0m\u001b[1;33m(\u001b[0m\u001b[0mnum1\u001b[0m \u001b[1;33m+\u001b[0m \u001b[0mnum2\u001b[0m\u001b[1;33m)\u001b[0m \u001b[1;33m+\u001b[0m \u001b[1;36m10\u001b[0m\u001b[1;33m\u001b[0m\u001b[1;33m\u001b[0m\u001b[0m\n\u001b[0m",
      "\u001b[1;31mTypeError\u001b[0m: unsupported operand type(s) for +: 'NoneType' and 'int'"
     ]
    }
   ],
   "source": [
    "add(10,20)"
   ]
  },
  {
   "cell_type": "code",
   "execution_count": 20,
   "id": "2cb89aea",
   "metadata": {},
   "outputs": [],
   "source": [
    "def add(num1,num2):\n",
    "    return num1 + num2 + 10"
   ]
  },
  {
   "cell_type": "code",
   "execution_count": 21,
   "id": "4d4a276c",
   "metadata": {},
   "outputs": [
    {
     "data": {
      "text/plain": [
       "21"
      ]
     },
     "execution_count": 21,
     "metadata": {},
     "output_type": "execute_result"
    }
   ],
   "source": [
    "add(6,5)"
   ]
  },
  {
   "cell_type": "code",
   "execution_count": 24,
   "id": "41d5259b",
   "metadata": {},
   "outputs": [],
   "source": [
    "def fun1(name):\n",
    "    return name + \" is happy\""
   ]
  },
  {
   "cell_type": "code",
   "execution_count": 25,
   "id": "c5867468",
   "metadata": {},
   "outputs": [
    {
     "data": {
      "text/plain": [
       "'Aryashree is happy'"
      ]
     },
     "execution_count": 25,
     "metadata": {},
     "output_type": "execute_result"
    }
   ],
   "source": [
    "fun1('Aryashree')"
   ]
  },
  {
   "cell_type": "code",
   "execution_count": 27,
   "id": "ced3b084",
   "metadata": {},
   "outputs": [],
   "source": [
    "#single argument\n",
    "def fun(name):\n",
    "    return \"hello \" + name"
   ]
  },
  {
   "cell_type": "code",
   "execution_count": 28,
   "id": "bc188488",
   "metadata": {},
   "outputs": [
    {
     "data": {
      "text/plain": [
       "'hello Ram'"
      ]
     },
     "execution_count": 28,
     "metadata": {},
     "output_type": "execute_result"
    }
   ],
   "source": [
    "fun('Ram')"
   ]
  },
  {
   "cell_type": "code",
   "execution_count": 29,
   "id": "462f13d3",
   "metadata": {},
   "outputs": [],
   "source": [
    "#two argument\n",
    "def fun1(x,y):\n",
    "    return x + y"
   ]
  },
  {
   "cell_type": "code",
   "execution_count": 30,
   "id": "995fc927",
   "metadata": {},
   "outputs": [
    {
     "data": {
      "text/plain": [
       "7"
      ]
     },
     "execution_count": 30,
     "metadata": {},
     "output_type": "execute_result"
    }
   ],
   "source": [
    "fun1(2,5)"
   ]
  },
  {
   "cell_type": "code",
   "execution_count": 31,
   "id": "506f1e67",
   "metadata": {},
   "outputs": [
    {
     "data": {
      "text/plain": [
       "'catdog'"
      ]
     },
     "execution_count": 31,
     "metadata": {},
     "output_type": "execute_result"
    }
   ],
   "source": [
    "fun1('cat','dog')"
   ]
  },
  {
   "cell_type": "code",
   "execution_count": 32,
   "id": "ac9c37e6",
   "metadata": {},
   "outputs": [
    {
     "ename": "TypeError",
     "evalue": "fun1() missing 1 required positional argument: 'y'",
     "output_type": "error",
     "traceback": [
      "\u001b[1;31m---------------------------------------------------------------------------\u001b[0m",
      "\u001b[1;31mTypeError\u001b[0m                                 Traceback (most recent call last)",
      "\u001b[1;32m~\\AppData\\Local\\Temp\\ipykernel_3616\\2270777372.py\u001b[0m in \u001b[0;36m<module>\u001b[1;34m\u001b[0m\n\u001b[1;32m----> 1\u001b[1;33m \u001b[0mfun1\u001b[0m\u001b[1;33m(\u001b[0m\u001b[1;36m23\u001b[0m\u001b[1;33m)\u001b[0m\u001b[1;33m\u001b[0m\u001b[1;33m\u001b[0m\u001b[0m\n\u001b[0m",
      "\u001b[1;31mTypeError\u001b[0m: fun1() missing 1 required positional argument: 'y'"
     ]
    }
   ],
   "source": [
    "fun1(23)"
   ]
  },
  {
   "cell_type": "code",
   "execution_count": 33,
   "id": "7086e0da",
   "metadata": {},
   "outputs": [],
   "source": [
    "#default argument\n",
    "def fun2(m=1,n=2):\n",
    "    return m + n"
   ]
  },
  {
   "cell_type": "code",
   "execution_count": 34,
   "id": "d36cdf94",
   "metadata": {},
   "outputs": [
    {
     "data": {
      "text/plain": [
       "3"
      ]
     },
     "execution_count": 34,
     "metadata": {},
     "output_type": "execute_result"
    }
   ],
   "source": [
    "fun2()"
   ]
  },
  {
   "cell_type": "code",
   "execution_count": 36,
   "id": "575f16cb",
   "metadata": {},
   "outputs": [
    {
     "data": {
      "text/plain": [
       "30"
      ]
     },
     "execution_count": 36,
     "metadata": {},
     "output_type": "execute_result"
    }
   ],
   "source": [
    "fun2(20,10)"
   ]
  },
  {
   "cell_type": "code",
   "execution_count": 37,
   "id": "22acb85c",
   "metadata": {},
   "outputs": [
    {
     "data": {
      "text/plain": [
       "22"
      ]
     },
     "execution_count": 37,
     "metadata": {},
     "output_type": "execute_result"
    }
   ],
   "source": [
    "fun2(20)"
   ]
  },
  {
   "cell_type": "code",
   "execution_count": 38,
   "id": "33ba77f6",
   "metadata": {},
   "outputs": [
    {
     "data": {
      "text/plain": [
       "6"
      ]
     },
     "execution_count": 38,
     "metadata": {},
     "output_type": "execute_result"
    }
   ],
   "source": [
    "fun2(n=5)"
   ]
  },
  {
   "cell_type": "code",
   "execution_count": 40,
   "id": "78e619e2",
   "metadata": {},
   "outputs": [],
   "source": [
    "#multiple arguments\n",
    "def addition(*args):\n",
    "    return sum(args)"
   ]
  },
  {
   "cell_type": "code",
   "execution_count": 42,
   "id": "d036704e",
   "metadata": {},
   "outputs": [
    {
     "data": {
      "text/plain": [
       "23"
      ]
     },
     "execution_count": 42,
     "metadata": {},
     "output_type": "execute_result"
    }
   ],
   "source": [
    "addition(2,3,5,6,7)"
   ]
  },
  {
   "cell_type": "code",
   "execution_count": null,
   "id": "eb87a88f",
   "metadata": {},
   "outputs": [],
   "source": []
  }
 ],
 "metadata": {
  "kernelspec": {
   "display_name": "Python 3 (ipykernel)",
   "language": "python",
   "name": "python3"
  },
  "language_info": {
   "codemirror_mode": {
    "name": "ipython",
    "version": 3
   },
   "file_extension": ".py",
   "mimetype": "text/x-python",
   "name": "python",
   "nbconvert_exporter": "python",
   "pygments_lexer": "ipython3",
   "version": "3.9.13"
  }
 },
 "nbformat": 4,
 "nbformat_minor": 5
}
