{
 "cells": [
  {
   "cell_type": "code",
   "execution_count": 2,
   "id": "1da24cab",
   "metadata": {},
   "outputs": [
    {
     "name": "stdout",
     "output_type": "stream",
     "text": [
      "hello world\n"
     ]
    }
   ],
   "source": [
    "#noprint\n",
    "print(\"hello world\")"
   ]
  },
  {
   "cell_type": "code",
   "execution_count": 3,
   "id": "52af2535",
   "metadata": {},
   "outputs": [
    {
     "name": "stdout",
     "output_type": "stream",
     "text": [
      "\n",
      "Here is a list of the Python keywords.  Enter any keyword to get more help.\n",
      "\n",
      "False               class               from                or\n",
      "None                continue            global              pass\n",
      "True                def                 if                  raise\n",
      "and                 del                 import              return\n",
      "as                  elif                in                  try\n",
      "assert              else                is                  while\n",
      "async               except              lambda              with\n",
      "await               finally             nonlocal            yield\n",
      "break               for                 not                 \n",
      "\n"
     ]
    }
   ],
   "source": []
  },
  {
   "cell_type": "code",
   "execution_count": 4,
   "id": "62286750",
   "metadata": {},
   "outputs": [
    {
     "name": "stdout",
     "output_type": "stream",
     "text": [
      "10\n"
     ]
    }
   ],
   "source": [
    "var_123 = 10\n",
    "print(var_123)"
   ]
  },
  {
   "cell_type": "code",
   "execution_count": 11,
   "id": "6071f48e",
   "metadata": {},
   "outputs": [
    {
     "data": {
      "text/plain": [
       "set"
      ]
     },
     "execution_count": 11,
     "metadata": {},
     "output_type": "execute_result"
    }
   ],
   "source": [
    "s = {1,2,3,4,5,6,6}\n",
    "type(s)"
   ]
  },
  {
   "cell_type": "code",
   "execution_count": 12,
   "id": "694f9605",
   "metadata": {},
   "outputs": [
    {
     "data": {
      "text/plain": [
       "complex"
      ]
     },
     "execution_count": 12,
     "metadata": {},
     "output_type": "execute_result"
    }
   ],
   "source": [
    "complex = 2 + 3j \n",
    "type(complex)"
   ]
  },
  {
   "cell_type": "code",
   "execution_count": 13,
   "id": "2df62fd0",
   "metadata": {},
   "outputs": [
    {
     "data": {
      "text/plain": [
       "bool"
      ]
     },
     "execution_count": 13,
     "metadata": {},
     "output_type": "execute_result"
    }
   ],
   "source": [
    "a = True\n",
    "type(a)"
   ]
  },
  {
   "cell_type": "code",
   "execution_count": 15,
   "id": "df7d9fcf",
   "metadata": {},
   "outputs": [
    {
     "data": {
      "text/plain": [
       "str"
      ]
     },
     "execution_count": 15,
     "metadata": {},
     "output_type": "execute_result"
    }
   ],
   "source": [
    "f = \"abhishek\"\n",
    "type(f)"
   ]
  },
  {
   "cell_type": "code",
   "execution_count": 17,
   "id": "ef711e06",
   "metadata": {},
   "outputs": [
    {
     "name": "stdout",
     "output_type": "stream",
     "text": [
      "this is  a \n",
      "multiline \n",
      " sentence lol\n",
      "this is a multiline string \n",
      "too lol\n"
     ]
    }
   ],
   "source": [
    "a = \"\"\"this is  a \n",
    "multiline \\n sentence lol\"\"\"\n",
    "b = '''this is a multiline string \n",
    "too lol'''\n",
    "print(a)\n",
    "print(b)"
   ]
  },
  {
   "cell_type": "code",
   "execution_count": 19,
   "id": "8c0fe68f",
   "metadata": {},
   "outputs": [
    {
     "name": "stdout",
     "output_type": "stream",
     "text": [
      " ***** \n",
      " **** \n",
      " *** \n",
      " ** \n",
      " *\n"
     ]
    }
   ],
   "source": [
    "print(' ***** \\n **** \\n *** \\n ** \\n *')"
   ]
  },
  {
   "cell_type": "code",
   "execution_count": 30,
   "id": "71c639a1",
   "metadata": {},
   "outputs": [
    {
     "data": {
      "text/plain": [
       "' Appl'"
      ]
     },
     "execution_count": 30,
     "metadata": {},
     "output_type": "execute_result"
    }
   ],
   "source": [
    "a = 'tasty Apple'\n",
    "a[5:len(a) - 1]"
   ]
  },
  {
   "cell_type": "code",
   "execution_count": 31,
   "id": "9babbe9d",
   "metadata": {},
   "outputs": [
    {
     "data": {
      "text/plain": [
       "'ttAl'"
      ]
     },
     "execution_count": 31,
     "metadata": {},
     "output_type": "execute_result"
    }
   ],
   "source": [
    "a[::3]"
   ]
  },
  {
   "cell_type": "code",
   "execution_count": 33,
   "id": "554cfe65",
   "metadata": {},
   "outputs": [
    {
     "data": {
      "text/plain": [
       "'elppA ytsat'"
      ]
     },
     "execution_count": 33,
     "metadata": {},
     "output_type": "execute_result"
    }
   ],
   "source": [
    "a[-1:-(len(a) + 1):-1]"
   ]
  },
  {
   "cell_type": "code",
   "execution_count": 43,
   "id": "b28f6e49",
   "metadata": {},
   "outputs": [
    {
     "data": {
      "text/plain": [
       "'------------ Hello Everyone ------------'"
      ]
     },
     "execution_count": 43,
     "metadata": {},
     "output_type": "execute_result"
    }
   ],
   "source": [
    "b = ' heLlo EveRyoNe '\n",
    "b.title()\n",
    "b.casefold()\n",
    "b.center(40,'-').title()"
   ]
  },
  {
   "cell_type": "code",
   "execution_count": 51,
   "id": "ddcfe017",
   "metadata": {},
   "outputs": [
    {
     "data": {
      "text/plain": [
       "2"
      ]
     },
     "execution_count": 51,
     "metadata": {},
     "output_type": "execute_result"
    }
   ],
   "source": [
    "b.count('e')\n",
    "b.index('e')\n",
    "#b.lastIndex('e')"
   ]
  },
  {
   "cell_type": "code",
   "execution_count": 48,
   "id": "9a0dc75c",
   "metadata": {},
   "outputs": [
    {
     "data": {
      "text/plain": [
       "'abhishek070902@gmail.com'"
      ]
     },
     "execution_count": 48,
     "metadata": {},
     "output_type": "execute_result"
    }
   ],
   "source": [
    "l1 =['abhishek070902','gmail.com']\n",
    "'@'.join(l1)"
   ]
  },
  {
   "cell_type": "code",
   "execution_count": 50,
   "id": "abdd4aca",
   "metadata": {},
   "outputs": [
    {
     "data": {
      "text/plain": [
       "[' h', 'Llo Ev', 'RyoN', ' ']"
      ]
     },
     "execution_count": 50,
     "metadata": {},
     "output_type": "execute_result"
    }
   ],
   "source": [
    "b.split(\"e\")"
   ]
  },
  {
   "cell_type": "code",
   "execution_count": 52,
   "id": "79109ef8",
   "metadata": {},
   "outputs": [
    {
     "data": {
      "text/plain": [
       "'hello'"
      ]
     },
     "execution_count": 52,
     "metadata": {},
     "output_type": "execute_result"
    }
   ],
   "source": [
    "so = '************hello***********'\n",
    "so.strip('*')"
   ]
  },
  {
   "cell_type": "code",
   "execution_count": 53,
   "id": "e043f1aa",
   "metadata": {},
   "outputs": [
    {
     "data": {
      "text/plain": [
       "'hello***********'"
      ]
     },
     "execution_count": 53,
     "metadata": {},
     "output_type": "execute_result"
    }
   ],
   "source": [
    "so.lstrip('*')"
   ]
  },
  {
   "cell_type": "code",
   "execution_count": 54,
   "id": "d61999a8",
   "metadata": {},
   "outputs": [
    {
     "data": {
      "text/plain": [
       "'************hello'"
      ]
     },
     "execution_count": 54,
     "metadata": {},
     "output_type": "execute_result"
    }
   ],
   "source": [
    "so.rstrip('*')"
   ]
  },
  {
   "cell_type": "code",
   "execution_count": null,
   "id": "c6f4ead7",
   "metadata": {},
   "outputs": [],
   "source": []
  }
 ],
 "metadata": {
  "kernelspec": {
   "display_name": "Python 3 (ipykernel)",
   "language": "python",
   "name": "python3"
  },
  "language_info": {
   "codemirror_mode": {
    "name": "ipython",
    "version": 3
   },
   "file_extension": ".py",
   "mimetype": "text/x-python",
   "name": "python",
   "nbconvert_exporter": "python",
   "pygments_lexer": "ipython3",
   "version": "3.11.5"
  }
 },
 "nbformat": 4,
 "nbformat_minor": 5
}
