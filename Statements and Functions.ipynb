{
 "cells": [
  {
   "cell_type": "markdown",
   "id": "fc78bb4b",
   "metadata": {},
   "source": [
    "Break Statement"
   ]
  },
  {
   "cell_type": "code",
   "execution_count": 2,
   "id": "bd1ef12d",
   "metadata": {},
   "outputs": [
    {
     "name": "stdout",
     "output_type": "stream",
     "text": [
      "p\n",
      "y\n",
      "t\n"
     ]
    }
   ],
   "source": [
    "for i in 'python':\n",
    "    if(i == 'h'):\n",
    "        break\n",
    "    print(i)"
   ]
  },
  {
   "cell_type": "markdown",
   "id": "559da7c6",
   "metadata": {},
   "source": [
    "Continue Statement"
   ]
  },
  {
   "cell_type": "code",
   "execution_count": 3,
   "id": "9b7483e2",
   "metadata": {},
   "outputs": [
    {
     "name": "stdout",
     "output_type": "stream",
     "text": [
      "p\n",
      "y\n",
      "t\n",
      "o\n",
      "n\n"
     ]
    }
   ],
   "source": [
    "for i in 'python':\n",
    "    if(i == 'h'):\n",
    "        continue\n",
    "    print(i)"
   ]
  },
  {
   "cell_type": "markdown",
   "id": "8f095687",
   "metadata": {},
   "source": [
    "Pass Statement"
   ]
  },
  {
   "cell_type": "code",
   "execution_count": 5,
   "id": "beb413e3",
   "metadata": {},
   "outputs": [
    {
     "name": "stdout",
     "output_type": "stream",
     "text": [
      "p y t h o n "
     ]
    }
   ],
   "source": [
    "for i in 'python':\n",
    "    if(i == 'h'):\n",
    "        pass\n",
    "    print(i,end = ' ')"
   ]
  },
  {
   "cell_type": "markdown",
   "id": "06c77520",
   "metadata": {},
   "source": [
    "Methods & Functions"
   ]
  },
  {
   "cell_type": "code",
   "execution_count": 6,
   "id": "34c3ca01",
   "metadata": {},
   "outputs": [
    {
     "name": "stdout",
     "output_type": "stream",
     "text": [
      "Welcome mate!!!\n",
      "Welcome mate!!!\n",
      "Welcome mate!!!\n",
      "Welcome mate!!!\n",
      "Welcome mate!!!\n",
      "Welcome mate!!!\n",
      "Welcome mate!!!\n",
      "Welcome mate!!!\n",
      "Welcome mate!!!\n",
      "Welcome mate!!!\n"
     ]
    }
   ],
   "source": [
    "def greet():\n",
    "    print('Welcome mate!!!')\n",
    "def main():\n",
    "    for i in range(10):\n",
    "        greet()\n",
    "main()"
   ]
  },
  {
   "cell_type": "code",
   "execution_count": 20,
   "id": "5cf8f077",
   "metadata": {},
   "outputs": [
    {
     "name": "stdout",
     "output_type": "stream",
     "text": [
      "Enter a number: 7\n",
      "7  is Prime\n"
     ]
    }
   ],
   "source": [
    "def isPrime(n):\n",
    "    count = 0\n",
    "    for i in range(1,n+1):\n",
    "        if(n % i == 0):\n",
    "            count+=1\n",
    "    return (count == 2)\n",
    "def main():\n",
    "    n = int(input('Enter a number: '))\n",
    "    if((isPrime(n))):\n",
    "        print(n,' is Prime')\n",
    "    else:\n",
    "        print(n,' ain\\'t prime')\n",
    "main()"
   ]
  },
  {
   "cell_type": "markdown",
   "id": "fc8efb65",
   "metadata": {},
   "source": [
    "Default Argument"
   ]
  },
  {
   "cell_type": "code",
   "execution_count": 3,
   "id": "b63be73c",
   "metadata": {},
   "outputs": [
    {
     "data": {
      "text/plain": [
       "3"
      ]
     },
     "execution_count": 3,
     "metadata": {},
     "output_type": "execute_result"
    }
   ],
   "source": [
    "def addition(a = 1,b = 2):\n",
    "    return a + b\n",
    "def main():\n",
    "    return addition()\n",
    "main()"
   ]
  },
  {
   "cell_type": "markdown",
   "id": "820620e2",
   "metadata": {},
   "source": [
    "Multiple Arguments"
   ]
  },
  {
   "cell_type": "code",
   "execution_count": 10,
   "id": "16017b2a",
   "metadata": {},
   "outputs": [],
   "source": [
    "def addition(*args):\n",
    "    return sum(args)"
   ]
  },
  {
   "cell_type": "code",
   "execution_count": 11,
   "id": "2d71508f",
   "metadata": {},
   "outputs": [
    {
     "data": {
      "text/plain": [
       "16"
      ]
     },
     "execution_count": 11,
     "metadata": {},
     "output_type": "execute_result"
    }
   ],
   "source": [
    "addition(2,3,4,5,2)"
   ]
  }
 ],
 "metadata": {
  "kernelspec": {
   "display_name": "Python 3 (ipykernel)",
   "language": "python",
   "name": "python3"
  },
  "language_info": {
   "codemirror_mode": {
    "name": "ipython",
    "version": 3
   },
   "file_extension": ".py",
   "mimetype": "text/x-python",
   "name": "python",
   "nbconvert_exporter": "python",
   "pygments_lexer": "ipython3",
   "version": "3.11.5"
  }
 },
 "nbformat": 4,
 "nbformat_minor": 5
}
